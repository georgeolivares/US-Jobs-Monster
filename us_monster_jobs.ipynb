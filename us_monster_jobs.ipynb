{
 "cells": [
  {
   "cell_type": "markdown",
   "metadata": {},
   "source": [
    "# US Monster Jobs Dataset Cleansing\n",
    "\n",
    "Personal checklist:\n",
    "-> Standarization of data: Fix inconsistent column names and convert into a standard format"
   ]
  },
  {
   "cell_type": "code",
   "execution_count": 2,
   "metadata": {},
   "outputs": [],
   "source": [
    "import pandas as pd\n",
    "\n",
    "import numpy as np"
   ]
  },
  {
   "cell_type": "code",
   "execution_count": 3,
   "metadata": {},
   "outputs": [],
   "source": [
    "df = pd.read_csv('C:\\\\Users\\\\jorge\\\\Desktop\\\\monster_com-job_sample.csv')"
   ]
  },
  {
   "cell_type": "markdown",
   "metadata": {},
   "source": [
    "# Overview of dataset"
   ]
  },
  {
   "cell_type": "code",
   "execution_count": 4,
   "metadata": {},
   "outputs": [
    {
     "data": {
      "text/plain": [
       "(22000, 14)"
      ]
     },
     "execution_count": 4,
     "metadata": {},
     "output_type": "execute_result"
    }
   ],
   "source": [
    "df.shape"
   ]
  },
  {
   "cell_type": "code",
   "execution_count": 5,
   "metadata": {},
   "outputs": [
    {
     "name": "stdout",
     "output_type": "stream",
     "text": [
      "<class 'pandas.core.frame.DataFrame'>\n",
      "RangeIndex: 22000 entries, 0 to 21999\n",
      "Data columns (total 14 columns):\n",
      " #   Column           Non-Null Count  Dtype \n",
      "---  ------           --------------  ----- \n",
      " 0   country          22000 non-null  object\n",
      " 1   country_code     22000 non-null  object\n",
      " 2   date_added       122 non-null    object\n",
      " 3   has_expired      22000 non-null  object\n",
      " 4   job_board        22000 non-null  object\n",
      " 5   job_description  22000 non-null  object\n",
      " 6   job_title        22000 non-null  object\n",
      " 7   job_type         20372 non-null  object\n",
      " 8   location         22000 non-null  object\n",
      " 9   organization     15133 non-null  object\n",
      " 10  page_url         22000 non-null  object\n",
      " 11  salary           3446 non-null   object\n",
      " 12  sector           16806 non-null  object\n",
      " 13  uniq_id          22000 non-null  object\n",
      "dtypes: object(14)\n",
      "memory usage: 2.3+ MB\n"
     ]
    }
   ],
   "source": [
    "df.info()"
   ]
  },
  {
   "cell_type": "markdown",
   "metadata": {},
   "source": [
    "# 1. Standarization of data\n",
    "-> Column names/format: I don't see any relevant errors in the column name format. Am I missing something?\n",
    " <br />No caps, no format differences between one name and another."
   ]
  },
  {
   "cell_type": "code",
   "execution_count": 6,
   "metadata": {},
   "outputs": [
    {
     "data": {
      "text/plain": [
       "Index(['country', 'country_code', 'date_added', 'has_expired', 'job_board',\n",
       "       'job_description', 'job_title', 'job_type', 'location', 'organization',\n",
       "       'page_url', 'salary', 'sector', 'uniq_id'],\n",
       "      dtype='object')"
      ]
     },
     "execution_count": 6,
     "metadata": {},
     "output_type": "execute_result"
    }
   ],
   "source": [
    "df.columns"
   ]
  },
  {
   "cell_type": "markdown",
   "metadata": {},
   "source": [
    "# 2. Data Type Conversion\n",
    "Data in df is of 'object' type. We'll have to convert the data type of the columns according to the data in each one of them."
   ]
  },
  {
   "cell_type": "code",
   "execution_count": 7,
   "metadata": {},
   "outputs": [
    {
     "name": "stdout",
     "output_type": "stream",
     "text": [
      "<class 'pandas.core.frame.DataFrame'>\n",
      "RangeIndex: 22000 entries, 0 to 21999\n",
      "Data columns (total 14 columns):\n",
      " #   Column           Non-Null Count  Dtype \n",
      "---  ------           --------------  ----- \n",
      " 0   country          22000 non-null  object\n",
      " 1   country_code     22000 non-null  object\n",
      " 2   date_added       122 non-null    object\n",
      " 3   has_expired      22000 non-null  object\n",
      " 4   job_board        22000 non-null  object\n",
      " 5   job_description  22000 non-null  object\n",
      " 6   job_title        22000 non-null  object\n",
      " 7   job_type         20372 non-null  object\n",
      " 8   location         22000 non-null  object\n",
      " 9   organization     15133 non-null  object\n",
      " 10  page_url         22000 non-null  object\n",
      " 11  salary           3446 non-null   object\n",
      " 12  sector           16806 non-null  object\n",
      " 13  uniq_id          22000 non-null  object\n",
      "dtypes: object(14)\n",
      "memory usage: 2.3+ MB\n"
     ]
    }
   ],
   "source": [
    "df.info()"
   ]
  },
  {
   "cell_type": "markdown",
   "metadata": {},
   "source": [
    "# 2.1 Empty cells per column?\n",
    "\n",
    "We have a ton of missing data in date_added, job_type, organization, salary and sector."
   ]
  },
  {
   "cell_type": "code",
   "execution_count": 8,
   "metadata": {},
   "outputs": [
    {
     "data": {
      "text/plain": [
       "country                0\n",
       "country_code           0\n",
       "date_added         21878\n",
       "has_expired            0\n",
       "job_board              0\n",
       "job_description        0\n",
       "job_title              0\n",
       "job_type            1628\n",
       "location               0\n",
       "organization        6867\n",
       "page_url               0\n",
       "salary             18554\n",
       "sector              5194\n",
       "uniq_id                0\n",
       "dtype: int64"
      ]
     },
     "execution_count": 8,
     "metadata": {},
     "output_type": "execute_result"
    }
   ],
   "source": [
    "df.isnull().sum()"
   ]
  },
  {
   "cell_type": "markdown",
   "metadata": {},
   "source": [
    "The only value in the 'Country' column is the US. I guess it makes sense when using a 'US Monster Jobs' dataset."
   ]
  },
  {
   "cell_type": "code",
   "execution_count": 9,
   "metadata": {},
   "outputs": [
    {
     "name": "stdout",
     "output_type": "stream",
     "text": [
      "United States of America    22000\n",
      "Name: country, dtype: int64\n",
      "-----------------------------------\n",
      "US    22000\n",
      "Name: country_code, dtype: int64\n"
     ]
    }
   ],
   "source": [
    "print(df['country'].value_counts())\n",
    "\n",
    "print('-----------------------------------')\n",
    "\n",
    "print(df['country_code'].value_counts())"
   ]
  },
  {
   "cell_type": "markdown",
   "metadata": {},
   "source": [
    "# 2.2 Convert date_added to date dtype"
   ]
  },
  {
   "cell_type": "code",
   "execution_count": 10,
   "metadata": {},
   "outputs": [
    {
     "data": {
      "text/html": [
       "<div>\n",
       "<style scoped>\n",
       "    .dataframe tbody tr th:only-of-type {\n",
       "        vertical-align: middle;\n",
       "    }\n",
       "\n",
       "    .dataframe tbody tr th {\n",
       "        vertical-align: top;\n",
       "    }\n",
       "\n",
       "    .dataframe thead th {\n",
       "        text-align: right;\n",
       "    }\n",
       "</style>\n",
       "<table border=\"1\" class=\"dataframe\">\n",
       "  <thead>\n",
       "    <tr style=\"text-align: right;\">\n",
       "      <th></th>\n",
       "      <th>country</th>\n",
       "      <th>country_code</th>\n",
       "      <th>date_added</th>\n",
       "      <th>has_expired</th>\n",
       "      <th>job_board</th>\n",
       "      <th>job_description</th>\n",
       "      <th>job_title</th>\n",
       "      <th>job_type</th>\n",
       "      <th>location</th>\n",
       "      <th>organization</th>\n",
       "      <th>page_url</th>\n",
       "      <th>salary</th>\n",
       "      <th>sector</th>\n",
       "      <th>uniq_id</th>\n",
       "    </tr>\n",
       "  </thead>\n",
       "  <tbody>\n",
       "    <tr>\n",
       "      <th>133</th>\n",
       "      <td>United States of America</td>\n",
       "      <td>US</td>\n",
       "      <td>5/10/2016</td>\n",
       "      <td>No</td>\n",
       "      <td>jobs.monster.com</td>\n",
       "      <td>#TrackingJobBody table, #TrackingJobBody a {&lt;b...</td>\n",
       "      <td>Multibed Technician Job in Deer Park</td>\n",
       "      <td>Full Time Employee</td>\n",
       "      <td>Deer Park, TX</td>\n",
       "      <td>Other/Not Classified</td>\n",
       "      <td>http://jobview.monster.com/Multibed-Technician...</td>\n",
       "      <td>NaN</td>\n",
       "      <td>Other</td>\n",
       "      <td>6f6e952b8b0a2bb55e9feada54db2347</td>\n",
       "    </tr>\n",
       "    <tr>\n",
       "      <th>140</th>\n",
       "      <td>United States of America</td>\n",
       "      <td>US</td>\n",
       "      <td>5/13/2016</td>\n",
       "      <td>No</td>\n",
       "      <td>jobs.monster.com</td>\n",
       "      <td>Equal Opportunity Employer: Minority/Female/Di...</td>\n",
       "      <td>Principal Cyber Security Engineer Job in Houston</td>\n",
       "      <td>Full Time Employee</td>\n",
       "      <td>Houston, TX</td>\n",
       "      <td>Computer SoftwareComputer/IT Services</td>\n",
       "      <td>http://jobview.monster.com/Principal-Cyber-Sec...</td>\n",
       "      <td>NaN</td>\n",
       "      <td>IT/Software Development</td>\n",
       "      <td>1127457851cf28d79a39fd4b35867982</td>\n",
       "    </tr>\n",
       "    <tr>\n",
       "      <th>251</th>\n",
       "      <td>United States of America</td>\n",
       "      <td>US</td>\n",
       "      <td>5/9/2016</td>\n",
       "      <td>No</td>\n",
       "      <td>jobs.monster.com</td>\n",
       "      <td>#TrackingJobBody table, #TrackingJobBody a {&lt;b...</td>\n",
       "      <td>Field Supervisor IS Job in Deer Park</td>\n",
       "      <td>Full Time Employee</td>\n",
       "      <td>Deer Park, TX</td>\n",
       "      <td>Other/Not Classified</td>\n",
       "      <td>http://jobview.monster.com/Field-Supervisor-IS...</td>\n",
       "      <td>NaN</td>\n",
       "      <td>Other</td>\n",
       "      <td>94b49d291a16d01b27378ca97e653910</td>\n",
       "    </tr>\n",
       "    <tr>\n",
       "      <th>279</th>\n",
       "      <td>United States of America</td>\n",
       "      <td>US</td>\n",
       "      <td>6/10/2016</td>\n",
       "      <td>No</td>\n",
       "      <td>jobs.monster.com</td>\n",
       "      <td>At American Family Insurance, we're firmly com...</td>\n",
       "      <td>Insurance Sales - Customer Service Job in Eden...</td>\n",
       "      <td>Full Time Employee</td>\n",
       "      <td>Eden Prairie, MN 55344</td>\n",
       "      <td>Insurance</td>\n",
       "      <td>http://jobview.monster.com/insurance-sales-cus...</td>\n",
       "      <td>15.00 - 21.00 $ /hour</td>\n",
       "      <td>Accounting/Finance/Insurance</td>\n",
       "      <td>64a597e5dd17740aadf4b0e8047b51a5</td>\n",
       "    </tr>\n",
       "    <tr>\n",
       "      <th>366</th>\n",
       "      <td>United States of America</td>\n",
       "      <td>US</td>\n",
       "      <td>1/2/2017</td>\n",
       "      <td>No</td>\n",
       "      <td>jobs.monster.com</td>\n",
       "      <td>Description The Opportunity The Vehicle Mainte...</td>\n",
       "      <td>Vehicle Maintenance Mechanic - Las Vegas</td>\n",
       "      <td>Full Time Employee</td>\n",
       "      <td>Las Vegas, NV</td>\n",
       "      <td>Energy and Utilities</td>\n",
       "      <td>http://jobview.monster.com/vehicle-maintenance...</td>\n",
       "      <td>NaN</td>\n",
       "      <td>Installation/Maintenance/Repair</td>\n",
       "      <td>886903d4dda03046c2a826c44bfff3dc</td>\n",
       "    </tr>\n",
       "    <tr>\n",
       "      <th>...</th>\n",
       "      <td>...</td>\n",
       "      <td>...</td>\n",
       "      <td>...</td>\n",
       "      <td>...</td>\n",
       "      <td>...</td>\n",
       "      <td>...</td>\n",
       "      <td>...</td>\n",
       "      <td>...</td>\n",
       "      <td>...</td>\n",
       "      <td>...</td>\n",
       "      <td>...</td>\n",
       "      <td>...</td>\n",
       "      <td>...</td>\n",
       "      <td>...</td>\n",
       "    </tr>\n",
       "    <tr>\n",
       "      <th>20760</th>\n",
       "      <td>United States of America</td>\n",
       "      <td>US</td>\n",
       "      <td>9/27/2016</td>\n",
       "      <td>No</td>\n",
       "      <td>jobs.monster.com</td>\n",
       "      <td>#TrackingJobBody table, #TrackingJobBody a {&lt;b...</td>\n",
       "      <td>Central Maintenance Planner Job in Norwell</td>\n",
       "      <td>Full Time Employee</td>\n",
       "      <td>Norwell, MA</td>\n",
       "      <td>Other/Not Classified</td>\n",
       "      <td>http://jobview.monster.com/central-maintenance...</td>\n",
       "      <td>NaN</td>\n",
       "      <td>Administrative/Clerical</td>\n",
       "      <td>7b115d764f741821bae4ac95bfcf3f04</td>\n",
       "    </tr>\n",
       "    <tr>\n",
       "      <th>21342</th>\n",
       "      <td>United States of America</td>\n",
       "      <td>US</td>\n",
       "      <td>3/30/2016</td>\n",
       "      <td>No</td>\n",
       "      <td>jobs.monster.com</td>\n",
       "      <td>#TrackingJobBody table, #TrackingJobBody a {&lt;b...</td>\n",
       "      <td>Branch Manager Job in Cincinnati</td>\n",
       "      <td>Full Time Employee</td>\n",
       "      <td>Cincinnati, OH</td>\n",
       "      <td>Other/Not Classified</td>\n",
       "      <td>http://jobview.monster.com/Branch-Manager-Job-...</td>\n",
       "      <td>NaN</td>\n",
       "      <td>Other</td>\n",
       "      <td>1db7d013265871214d3f4e7ed80d8a23</td>\n",
       "    </tr>\n",
       "    <tr>\n",
       "      <th>21391</th>\n",
       "      <td>United States of America</td>\n",
       "      <td>US</td>\n",
       "      <td>3/24/2016</td>\n",
       "      <td>No</td>\n",
       "      <td>jobs.monster.com</td>\n",
       "      <td>#TrackingJobBody table, #TrackingJobBody a {&lt;b...</td>\n",
       "      <td>Field Service Driver Job in Cincinnati</td>\n",
       "      <td>Full Time Employee</td>\n",
       "      <td>Cincinnati, OH</td>\n",
       "      <td>Other/Not Classified</td>\n",
       "      <td>http://jobview.monster.com/Field-Service-Drive...</td>\n",
       "      <td>NaN</td>\n",
       "      <td>Logistics/Transportation</td>\n",
       "      <td>4f304e6285b240f8442a028bc3716273</td>\n",
       "    </tr>\n",
       "    <tr>\n",
       "      <th>21631</th>\n",
       "      <td>United States of America</td>\n",
       "      <td>US</td>\n",
       "      <td>4/4/2016</td>\n",
       "      <td>No</td>\n",
       "      <td>jobs.monster.com</td>\n",
       "      <td>#TrackingJobBody table, #TrackingJobBody a {&lt;b...</td>\n",
       "      <td>Field Project Manager Job in Cincinnati</td>\n",
       "      <td>Full Time Employee</td>\n",
       "      <td>Cincinnati, OH</td>\n",
       "      <td>Other/Not Classified</td>\n",
       "      <td>http://jobview.monster.com/Field-Project-Manag...</td>\n",
       "      <td>NaN</td>\n",
       "      <td>Other</td>\n",
       "      <td>6f86e1f35ad082be591bcec15c75f947</td>\n",
       "    </tr>\n",
       "    <tr>\n",
       "      <th>21696</th>\n",
       "      <td>United States of America</td>\n",
       "      <td>US</td>\n",
       "      <td>3/24/2016</td>\n",
       "      <td>No</td>\n",
       "      <td>jobs.monster.com</td>\n",
       "      <td>#TrackingJobBody table, #TrackingJobBody a {&lt;b...</td>\n",
       "      <td>Environmental Technician CBPP Job in Cincinnati</td>\n",
       "      <td>Full Time Employee</td>\n",
       "      <td>Cincinnati, OH</td>\n",
       "      <td>Other/Not Classified</td>\n",
       "      <td>http://jobview.monster.com/Environmental-Techn...</td>\n",
       "      <td>NaN</td>\n",
       "      <td>Biotech/R&amp;D/Science</td>\n",
       "      <td>a0afd50db433d785e97665e4e9345815</td>\n",
       "    </tr>\n",
       "  </tbody>\n",
       "</table>\n",
       "<p>122 rows × 14 columns</p>\n",
       "</div>"
      ],
      "text/plain": [
       "                        country country_code date_added has_expired  \\\n",
       "133    United States of America           US  5/10/2016          No   \n",
       "140    United States of America           US  5/13/2016          No   \n",
       "251    United States of America           US   5/9/2016          No   \n",
       "279    United States of America           US  6/10/2016          No   \n",
       "366    United States of America           US   1/2/2017          No   \n",
       "...                         ...          ...        ...         ...   \n",
       "20760  United States of America           US  9/27/2016          No   \n",
       "21342  United States of America           US  3/30/2016          No   \n",
       "21391  United States of America           US  3/24/2016          No   \n",
       "21631  United States of America           US   4/4/2016          No   \n",
       "21696  United States of America           US  3/24/2016          No   \n",
       "\n",
       "              job_board                                    job_description  \\\n",
       "133    jobs.monster.com  #TrackingJobBody table, #TrackingJobBody a {<b...   \n",
       "140    jobs.monster.com  Equal Opportunity Employer: Minority/Female/Di...   \n",
       "251    jobs.monster.com  #TrackingJobBody table, #TrackingJobBody a {<b...   \n",
       "279    jobs.monster.com  At American Family Insurance, we're firmly com...   \n",
       "366    jobs.monster.com  Description The Opportunity The Vehicle Mainte...   \n",
       "...                 ...                                                ...   \n",
       "20760  jobs.monster.com  #TrackingJobBody table, #TrackingJobBody a {<b...   \n",
       "21342  jobs.monster.com  #TrackingJobBody table, #TrackingJobBody a {<b...   \n",
       "21391  jobs.monster.com  #TrackingJobBody table, #TrackingJobBody a {<b...   \n",
       "21631  jobs.monster.com  #TrackingJobBody table, #TrackingJobBody a {<b...   \n",
       "21696  jobs.monster.com  #TrackingJobBody table, #TrackingJobBody a {<b...   \n",
       "\n",
       "                                               job_title            job_type  \\\n",
       "133                 Multibed Technician Job in Deer Park  Full Time Employee   \n",
       "140     Principal Cyber Security Engineer Job in Houston  Full Time Employee   \n",
       "251                 Field Supervisor IS Job in Deer Park  Full Time Employee   \n",
       "279    Insurance Sales - Customer Service Job in Eden...  Full Time Employee   \n",
       "366             Vehicle Maintenance Mechanic - Las Vegas  Full Time Employee   \n",
       "...                                                  ...                 ...   \n",
       "20760         Central Maintenance Planner Job in Norwell  Full Time Employee   \n",
       "21342                   Branch Manager Job in Cincinnati  Full Time Employee   \n",
       "21391             Field Service Driver Job in Cincinnati  Full Time Employee   \n",
       "21631            Field Project Manager Job in Cincinnati  Full Time Employee   \n",
       "21696    Environmental Technician CBPP Job in Cincinnati  Full Time Employee   \n",
       "\n",
       "                     location                           organization  \\\n",
       "133             Deer Park, TX                   Other/Not Classified   \n",
       "140               Houston, TX  Computer SoftwareComputer/IT Services   \n",
       "251             Deer Park, TX                   Other/Not Classified   \n",
       "279    Eden Prairie, MN 55344                              Insurance   \n",
       "366             Las Vegas, NV                   Energy and Utilities   \n",
       "...                       ...                                    ...   \n",
       "20760             Norwell, MA                   Other/Not Classified   \n",
       "21342          Cincinnati, OH                   Other/Not Classified   \n",
       "21391          Cincinnati, OH                   Other/Not Classified   \n",
       "21631          Cincinnati, OH                   Other/Not Classified   \n",
       "21696          Cincinnati, OH                   Other/Not Classified   \n",
       "\n",
       "                                                page_url  \\\n",
       "133    http://jobview.monster.com/Multibed-Technician...   \n",
       "140    http://jobview.monster.com/Principal-Cyber-Sec...   \n",
       "251    http://jobview.monster.com/Field-Supervisor-IS...   \n",
       "279    http://jobview.monster.com/insurance-sales-cus...   \n",
       "366    http://jobview.monster.com/vehicle-maintenance...   \n",
       "...                                                  ...   \n",
       "20760  http://jobview.monster.com/central-maintenance...   \n",
       "21342  http://jobview.monster.com/Branch-Manager-Job-...   \n",
       "21391  http://jobview.monster.com/Field-Service-Drive...   \n",
       "21631  http://jobview.monster.com/Field-Project-Manag...   \n",
       "21696  http://jobview.monster.com/Environmental-Techn...   \n",
       "\n",
       "                      salary                           sector  \\\n",
       "133                      NaN                            Other   \n",
       "140                      NaN          IT/Software Development   \n",
       "251                      NaN                            Other   \n",
       "279    15.00 - 21.00 $ /hour     Accounting/Finance/Insurance   \n",
       "366                      NaN  Installation/Maintenance/Repair   \n",
       "...                      ...                              ...   \n",
       "20760                    NaN          Administrative/Clerical   \n",
       "21342                    NaN                            Other   \n",
       "21391                    NaN         Logistics/Transportation   \n",
       "21631                    NaN                            Other   \n",
       "21696                    NaN              Biotech/R&D/Science   \n",
       "\n",
       "                                uniq_id  \n",
       "133    6f6e952b8b0a2bb55e9feada54db2347  \n",
       "140    1127457851cf28d79a39fd4b35867982  \n",
       "251    94b49d291a16d01b27378ca97e653910  \n",
       "279    64a597e5dd17740aadf4b0e8047b51a5  \n",
       "366    886903d4dda03046c2a826c44bfff3dc  \n",
       "...                                 ...  \n",
       "20760  7b115d764f741821bae4ac95bfcf3f04  \n",
       "21342  1db7d013265871214d3f4e7ed80d8a23  \n",
       "21391  4f304e6285b240f8442a028bc3716273  \n",
       "21631  6f86e1f35ad082be591bcec15c75f947  \n",
       "21696  a0afd50db433d785e97665e4e9345815  \n",
       "\n",
       "[122 rows x 14 columns]"
      ]
     },
     "execution_count": 10,
     "metadata": {},
     "output_type": "execute_result"
    }
   ],
   "source": [
    "df.loc[df['date_added'].notnull()]"
   ]
  },
  {
   "cell_type": "code",
   "execution_count": 11,
   "metadata": {},
   "outputs": [
    {
     "name": "stdout",
     "output_type": "stream",
     "text": [
      "['country: object', 'country_code: object', 'date_added: object', 'has_expired: object', 'job_board: object', 'job_description: object', 'job_title: object', 'job_type: object', 'location: object', 'organization: object', 'page_url: object', 'salary: object', 'sector: object', 'uniq_id: object']\n"
     ]
    }
   ],
   "source": [
    "lista = [(i + ''': ''' + str(df.dtypes[i])) for i in dict(df.dtypes)]\n",
    "\n",
    "print(lista)"
   ]
  },
  {
   "cell_type": "markdown",
   "metadata": {},
   "source": [
    "# Fix salary column"
   ]
  },
  {
   "cell_type": "markdown",
   "metadata": {},
   "source": [
    "# Visualize full df rows"
   ]
  },
  {
   "cell_type": "markdown",
   "metadata": {},
   "source": [
    "Code in next cell allows us to view rows in text editor. "
   ]
  },
  {
   "cell_type": "code",
   "execution_count": 12,
   "metadata": {},
   "outputs": [
    {
     "name": "stdout",
     "output_type": "stream",
     "text": [
      "                           salary\n",
      "0                             NaN\n",
      "1                             NaN\n",
      "2                             NaN\n",
      "3                             NaN\n",
      "4                             NaN\n",
      "5                             NaN\n",
      "6                             NaN\n",
      "7                             NaN\n",
      "8                             NaN\n",
      "9                             NaN\n",
      "10                            NaN\n",
      "11                            NaN\n",
      "12                            NaN\n",
      "13           9.00 - 13.00 $ /hour\n",
      "14  80,000.00 - 95,000.00 $ /year\n"
     ]
    }
   ],
   "source": [
    "with pd.option_context('display.max_rows', None,\n",
    "                       'display.max_columns', None,\n",
    "                       'display.precision', 3,\n",
    "                       ):\n",
    "    print(df[['salary']].head(15))"
   ]
  },
  {
   "cell_type": "markdown",
   "metadata": {},
   "source": [
    "I wanted to have a better idea of the data in the column.\n",
    "\n",
    "The \"Salary\" column is a mess. We got:\\\n",
    "80,000.00 - 95,000.00 /year\\\n",
    "45,000.00 - 100,000.00 /yearBonus, Benefits,\\\n",
    "40,000.00 - 50,000.00 /yearsalary\\\n",
    "56,000.00 - 64,000.00 /yearHighly Competitiv\\\n",
    "13.00 - 16.00 /year\\\n",
    "0.00 - 90,000.00 /year\\\n",
    "45,000.00+ /year\\\n",
    "0.00 - 1.00 /year"
   ]
  },
  {
   "cell_type": "markdown",
   "metadata": {},
   "source": [
    "Next code block shows rows with \"year\" string in it. \"Salary\" column."
   ]
  },
  {
   "cell_type": "code",
   "execution_count": 13,
   "metadata": {},
   "outputs": [
    {
     "name": "stdout",
     "output_type": "stream",
     "text": [
      "14                         80,000.00 - 95,000.00 $ /year\n",
      "19                         60,000.00 - 72,000.00 $ /year\n",
      "29                        70,000.00 - 100,000.00 $ /year\n",
      "32                        75,000.00 - 100,000.00 $ /year\n",
      "36                         68,000.00 - 72,000.00 $ /year\n",
      "41                         58,000.00 - 65,000.00 $ /year\n",
      "61     45,000.00 - 100,000.00 $ /yearBonus, Benefits,...\n",
      "64                   40,000.00 - 50,000.00 $ /yearsalary\n",
      "82                         80,000.00 - 90,000.00 $ /year\n",
      "83                         35,000.00 - 45,000.00 $ /year\n",
      "88                        80,000.00 - 100,000.00 $ /year\n",
      "100                        31,000.00 - 33,000.00 $ /year\n",
      "117                      100,000.00 - 120,000.00 $ /year\n",
      "127                       75,000.00 - 100,000.00 $ /year\n",
      "132                                    $50,000.00+ /year\n",
      "Name: salary, dtype: object\n"
     ]
    }
   ],
   "source": [
    "filt = (pd.isna(df['salary']) == False) & (df['salary'].str.contains('year') == True)\n",
    "\n",
    "with pd.option_context('display.max_rows', None,\n",
    "                       'display.max_columns', None,\n",
    "                       'display.precision', 3,\n",
    "                       ):\n",
    "    print(df.loc[filt]['salary'].head(15))"
   ]
  },
  {
   "cell_type": "markdown",
   "metadata": {},
   "source": [
    "# Add extra columns for analysis"
   ]
  },
  {
   "cell_type": "code",
   "execution_count": 14,
   "metadata": {},
   "outputs": [
    {
     "data": {
      "text/plain": [
       "11"
      ]
     },
     "execution_count": 14,
     "metadata": {},
     "output_type": "execute_result"
    }
   ],
   "source": [
    "df.columns.get_loc('salary')"
   ]
  },
  {
   "cell_type": "code",
   "execution_count": 15,
   "metadata": {},
   "outputs": [
    {
     "data": {
      "text/plain": [
       "Index(['country', 'country_code', 'date_added', 'has_expired', 'job_board',\n",
       "       'job_description', 'job_title', 'job_type', 'location', 'organization',\n",
       "       'page_url', 'salary', 'from_salary', 'sector', 'uniq_id'],\n",
       "      dtype='object')"
      ]
     },
     "execution_count": 15,
     "metadata": {},
     "output_type": "execute_result"
    }
   ],
   "source": [
    "df.insert(12, 'from_salary', np.nan)\n",
    "\n",
    "df.columns"
   ]
  },
  {
   "cell_type": "code",
   "execution_count": 16,
   "metadata": {},
   "outputs": [
    {
     "data": {
      "text/plain": [
       "Index(['country', 'country_code', 'date_added', 'has_expired', 'job_board',\n",
       "       'job_description', 'job_title', 'job_type', 'location', 'organization',\n",
       "       'page_url', 'salary', 'from_salary', 'to_salary', 'sector', 'uniq_id'],\n",
       "      dtype='object')"
      ]
     },
     "execution_count": 16,
     "metadata": {},
     "output_type": "execute_result"
    }
   ],
   "source": [
    "df.insert(13, 'to_salary', np.nan)\n",
    "\n",
    "df.columns"
   ]
  },
  {
   "cell_type": "code",
   "execution_count": 17,
   "metadata": {},
   "outputs": [
    {
     "data": {
      "text/plain": [
       "Index(['country', 'country_code', 'date_added', 'has_expired', 'job_board',\n",
       "       'job_description', 'job_title', 'job_type', 'location', 'organization',\n",
       "       'page_url', 'salary', 'from_salary', 'to_salary', 'yearly_hourly',\n",
       "       'sector', 'uniq_id'],\n",
       "      dtype='object')"
      ]
     },
     "execution_count": 17,
     "metadata": {},
     "output_type": "execute_result"
    }
   ],
   "source": [
    "df.insert(14, 'yearly_hourly', np.nan)\n",
    "\n",
    "df.columns"
   ]
  },
  {
   "cell_type": "code",
   "execution_count": 18,
   "metadata": {},
   "outputs": [],
   "source": [
    "df.index.names = ['id']"
   ]
  },
  {
   "cell_type": "markdown",
   "metadata": {},
   "source": [
    "# Salary column copy\n",
    "I copied the data in \"salary\" to \"salary_copy\""
   ]
  },
  {
   "cell_type": "code",
   "execution_count": 19,
   "metadata": {},
   "outputs": [],
   "source": [
    "df['salary_copy'] = df['salary']"
   ]
  },
  {
   "cell_type": "code",
   "execution_count": 20,
   "metadata": {},
   "outputs": [
    {
     "data": {
      "text/html": [
       "<div>\n",
       "<style scoped>\n",
       "    .dataframe tbody tr th:only-of-type {\n",
       "        vertical-align: middle;\n",
       "    }\n",
       "\n",
       "    .dataframe tbody tr th {\n",
       "        vertical-align: top;\n",
       "    }\n",
       "\n",
       "    .dataframe thead th {\n",
       "        text-align: right;\n",
       "    }\n",
       "</style>\n",
       "<table border=\"1\" class=\"dataframe\">\n",
       "  <thead>\n",
       "    <tr style=\"text-align: right;\">\n",
       "      <th></th>\n",
       "      <th>salary</th>\n",
       "      <th>salary_copy</th>\n",
       "    </tr>\n",
       "    <tr>\n",
       "      <th>id</th>\n",
       "      <th></th>\n",
       "      <th></th>\n",
       "    </tr>\n",
       "  </thead>\n",
       "  <tbody>\n",
       "    <tr>\n",
       "      <th>0</th>\n",
       "      <td>NaN</td>\n",
       "      <td>NaN</td>\n",
       "    </tr>\n",
       "    <tr>\n",
       "      <th>1</th>\n",
       "      <td>NaN</td>\n",
       "      <td>NaN</td>\n",
       "    </tr>\n",
       "    <tr>\n",
       "      <th>2</th>\n",
       "      <td>NaN</td>\n",
       "      <td>NaN</td>\n",
       "    </tr>\n",
       "    <tr>\n",
       "      <th>3</th>\n",
       "      <td>NaN</td>\n",
       "      <td>NaN</td>\n",
       "    </tr>\n",
       "    <tr>\n",
       "      <th>4</th>\n",
       "      <td>NaN</td>\n",
       "      <td>NaN</td>\n",
       "    </tr>\n",
       "    <tr>\n",
       "      <th>...</th>\n",
       "      <td>...</td>\n",
       "      <td>...</td>\n",
       "    </tr>\n",
       "    <tr>\n",
       "      <th>21995</th>\n",
       "      <td>120,000.00 - 160,000.00 $ /yearbonus</td>\n",
       "      <td>120,000.00 - 160,000.00 $ /yearbonus</td>\n",
       "    </tr>\n",
       "    <tr>\n",
       "      <th>21996</th>\n",
       "      <td>45,000.00 - 60,000.00 $ /year</td>\n",
       "      <td>45,000.00 - 60,000.00 $ /year</td>\n",
       "    </tr>\n",
       "    <tr>\n",
       "      <th>21997</th>\n",
       "      <td>NaN</td>\n",
       "      <td>NaN</td>\n",
       "    </tr>\n",
       "    <tr>\n",
       "      <th>21998</th>\n",
       "      <td>25.00 - 28.00 $ /hour</td>\n",
       "      <td>25.00 - 28.00 $ /hour</td>\n",
       "    </tr>\n",
       "    <tr>\n",
       "      <th>21999</th>\n",
       "      <td>40,000.00 - 46,000.00 $ /year+ annual bonus (u...</td>\n",
       "      <td>40,000.00 - 46,000.00 $ /year+ annual bonus (u...</td>\n",
       "    </tr>\n",
       "  </tbody>\n",
       "</table>\n",
       "<p>22000 rows × 2 columns</p>\n",
       "</div>"
      ],
      "text/plain": [
       "                                                  salary  \\\n",
       "id                                                         \n",
       "0                                                    NaN   \n",
       "1                                                    NaN   \n",
       "2                                                    NaN   \n",
       "3                                                    NaN   \n",
       "4                                                    NaN   \n",
       "...                                                  ...   \n",
       "21995               120,000.00 - 160,000.00 $ /yearbonus   \n",
       "21996                      45,000.00 - 60,000.00 $ /year   \n",
       "21997                                                NaN   \n",
       "21998                              25.00 - 28.00 $ /hour   \n",
       "21999  40,000.00 - 46,000.00 $ /year+ annual bonus (u...   \n",
       "\n",
       "                                             salary_copy  \n",
       "id                                                        \n",
       "0                                                    NaN  \n",
       "1                                                    NaN  \n",
       "2                                                    NaN  \n",
       "3                                                    NaN  \n",
       "4                                                    NaN  \n",
       "...                                                  ...  \n",
       "21995               120,000.00 - 160,000.00 $ /yearbonus  \n",
       "21996                      45,000.00 - 60,000.00 $ /year  \n",
       "21997                                                NaN  \n",
       "21998                              25.00 - 28.00 $ /hour  \n",
       "21999  40,000.00 - 46,000.00 $ /year+ annual bonus (u...  \n",
       "\n",
       "[22000 rows x 2 columns]"
      ]
     },
     "execution_count": 20,
     "metadata": {},
     "output_type": "execute_result"
    }
   ],
   "source": [
    "df[['salary', 'salary_copy']]"
   ]
  },
  {
   "cell_type": "markdown",
   "metadata": {},
   "source": [
    "# Split salary string\n",
    "Now that I got the columns I'm splitting the strings into each one of them.\\\n",
    "Try to make sense of the data."
   ]
  },
  {
   "cell_type": "code",
   "execution_count": 21,
   "metadata": {},
   "outputs": [
    {
     "data": {
      "text/plain": [
       "id\n",
       "0       NaN\n",
       "1       NaN\n",
       "2       NaN\n",
       "3       NaN\n",
       "4       NaN\n",
       "         ..\n",
       "21995   NaN\n",
       "21996   NaN\n",
       "21997   NaN\n",
       "21998   NaN\n",
       "21999   NaN\n",
       "Name: yearly_hourly, Length: 22000, dtype: float64"
      ]
     },
     "execution_count": 21,
     "metadata": {},
     "output_type": "execute_result"
    }
   ],
   "source": [
    "df['yearly_hourly']"
   ]
  },
  {
   "cell_type": "code",
   "execution_count": 22,
   "metadata": {},
   "outputs": [
    {
     "name": "stdout",
     "output_type": "stream",
     "text": [
      "<class 'pandas.core.frame.DataFrame'>\n",
      "RangeIndex: 22000 entries, 0 to 21999\n",
      "Data columns (total 18 columns):\n",
      " #   Column           Non-Null Count  Dtype  \n",
      "---  ------           --------------  -----  \n",
      " 0   country          22000 non-null  object \n",
      " 1   country_code     22000 non-null  object \n",
      " 2   date_added       122 non-null    object \n",
      " 3   has_expired      22000 non-null  object \n",
      " 4   job_board        22000 non-null  object \n",
      " 5   job_description  22000 non-null  object \n",
      " 6   job_title        22000 non-null  object \n",
      " 7   job_type         20372 non-null  object \n",
      " 8   location         22000 non-null  object \n",
      " 9   organization     15133 non-null  object \n",
      " 10  page_url         22000 non-null  object \n",
      " 11  salary           3446 non-null   object \n",
      " 12  from_salary      22000 non-null  object \n",
      " 13  to_salary        22000 non-null  object \n",
      " 14  yearly_hourly    0 non-null      float64\n",
      " 15  sector           16806 non-null  object \n",
      " 16  uniq_id          22000 non-null  object \n",
      " 17  salary_copy      3446 non-null   object \n",
      "dtypes: float64(1), object(17)\n",
      "memory usage: 3.0+ MB\n"
     ]
    }
   ],
   "source": [
    "df['from_salary'] = df['from_salary'].astype(str)\n",
    "\n",
    "df['to_salary'] = df['to_salary'].astype(str)\n",
    "\n",
    "\n",
    "df.info()"
   ]
  },
  {
   "cell_type": "markdown",
   "metadata": {},
   "source": [
    "# Salary/Year Loop"
   ]
  },
  {
   "cell_type": "markdown",
   "metadata": {},
   "source": [
    "Set \"Yearly_Hourly\" column to \"year\" where \"Salary\" column contains \"year\""
   ]
  },
  {
   "cell_type": "code",
   "execution_count": 23,
   "metadata": {},
   "outputs": [],
   "source": [
    "filt = (pd.isna(df['salary']) == False) & (df['salary'].str.contains('year') == True)\n",
    "\n",
    "for i in df.index[filt == True]:\n",
    "    from_sal = df.iloc[i, df.columns.get_loc('from_salary')]\n",
    "    to_sal = df.iloc[i, df.columns.get_loc('to_salary')]\n",
    "    \n",
    "    df.iloc[i, df.columns.get_loc('yearly_hourly')] = 'year'\n",
    "    \n",
    "    split_salary = df.iloc[i, df.columns.get_loc('salary')].split('-', 1)  # Split \"Salary\" string in 2. That's why we specify \"1\" inside the split. That means first ocurrence.\n",
    "    \n",
    "    if len(split_salary) == 1:\n",
    "        df.at[i, 'from_salary'] = np.nan   # Set to NaN while I find what to do with salaries without specific range like \"Up to $60,000\"\n",
    "        df.at[i, 'to_salary'] = split_salary[0]   # Set to the max value, for ex. if it says \"Up to $60,000\" then it is $60,000\n",
    "    elif len(split_salary) == 2:\n",
    "        df.at[i, 'from_salary'] = split_salary[0]   # We assign FIRST value of the split. Most of the strings are of the \"$50,000 - $70,000\" type\n",
    "        df.at[i, 'to_salary'] = split_salary[1]   # We assign SECOND value of the split. Most of the strings are of the \"$50,000 - $70,000\" type"
   ]
  },
  {
   "cell_type": "markdown",
   "metadata": {},
   "source": [
    "# Salary/Hour Loop"
   ]
  },
  {
   "cell_type": "code",
   "execution_count": 24,
   "metadata": {},
   "outputs": [],
   "source": [
    "filt = (pd.isna(df['salary']) == False) & (df['salary'].str.contains('hour') == True)\n",
    "\n",
    "for i in df.index[filt == True]:\n",
    "    from_sal = df.iloc[i, df.columns.get_loc('from_salary')]\n",
    "    to_sal = df.iloc[i, df.columns.get_loc('to_salary')]\n",
    "    \n",
    "    df.iloc[i, df.columns.get_loc('yearly_hourly')] = 'hour'\n",
    "    \n",
    "    split_salary = df.iloc[i, df.columns.get_loc('salary')].split('-', 1)\n",
    "    \n",
    "    if len(split_salary) == 1:\n",
    "        df.at[i, 'from_salary'] = np.nan\n",
    "        df.at[i, 'to_salary'] = split_salary[0]\n",
    "    elif len(split_salary) == 2:\n",
    "        df.at[i, 'from_salary'] = split_salary[0]\n",
    "        df.at[i, 'to_salary'] = split_salary[1]"
   ]
  },
  {
   "cell_type": "markdown",
   "metadata": {},
   "source": [
    "# Salary per Month"
   ]
  },
  {
   "cell_type": "code",
   "execution_count": 25,
   "metadata": {},
   "outputs": [],
   "source": [
    "filt = (pd.isna(df['salary']) == False) & (df['salary'].str.contains(\"\"\"/month\"\"\") == True)\n",
    "\n",
    "for i in df.index[filt == True]:\n",
    "    from_sal = df.iloc[i, df.columns.get_loc('from_salary')]\n",
    "    to_sal = df.iloc[i, df.columns.get_loc('to_salary')]\n",
    "    \n",
    "    df.iloc[i, df.columns.get_loc('yearly_hourly')] = 'month'\n",
    "    \n",
    "    split_salary = df.iloc[i, df.columns.get_loc('salary')].split('-', 1)\n",
    "    \n",
    "    if len(split_salary) == 1:\n",
    "        df.at[i, 'from_salary'] = np.nan\n",
    "        df.at[i, 'to_salary'] = split_salary[0]\n",
    "    elif len(split_salary) == 2:\n",
    "        df.at[i, 'from_salary'] = split_salary[0]\n",
    "        df.at[i, 'to_salary'] = split_salary[1]"
   ]
  },
  {
   "cell_type": "markdown",
   "metadata": {},
   "source": [
    "# Up to... Loop"
   ]
  },
  {
   "cell_type": "code",
   "execution_count": 26,
   "metadata": {},
   "outputs": [],
   "source": [
    "filt_upto = (pd.isna(df['salary']) == False) & (df['salary'].str.contains('Up to') == True)\n",
    "\n",
    "df.loc[filt_upto]['salary']\n",
    "\n",
    "for i in df.index[filt_upto == True]:\n",
    "    split_salary = df.iloc[i, df.columns.get_loc('salary')].split('$', 1)\n",
    "    if len(split_salary[1]) > 5:\n",
    "        df.at[i, 'from_salary'] = np.nan\n",
    "        df.at[i, 'to_salary'] = split_salary[1]\n",
    "        df.at[i, 'yearly_hourly'] = 'upto'\n",
    "    elif len(split_salary[1]) < 6:\n",
    "        df.at[i, 'from_salary'] = np.nan\n",
    "        df.at[i, 'to_salary'] = split_salary[1]\n",
    "        df.at[i, 'yearly_hourly'] = 'uptohour'"
   ]
  },
  {
   "cell_type": "markdown",
   "metadata": {},
   "source": [
    "# View year results"
   ]
  },
  {
   "cell_type": "code",
   "execution_count": 27,
   "metadata": {},
   "outputs": [
    {
     "data": {
      "text/html": [
       "<div>\n",
       "<style scoped>\n",
       "    .dataframe tbody tr th:only-of-type {\n",
       "        vertical-align: middle;\n",
       "    }\n",
       "\n",
       "    .dataframe tbody tr th {\n",
       "        vertical-align: top;\n",
       "    }\n",
       "\n",
       "    .dataframe thead th {\n",
       "        text-align: right;\n",
       "    }\n",
       "</style>\n",
       "<table border=\"1\" class=\"dataframe\">\n",
       "  <thead>\n",
       "    <tr style=\"text-align: right;\">\n",
       "      <th></th>\n",
       "      <th>salary</th>\n",
       "      <th>from_salary</th>\n",
       "      <th>to_salary</th>\n",
       "      <th>yearly_hourly</th>\n",
       "    </tr>\n",
       "    <tr>\n",
       "      <th>id</th>\n",
       "      <th></th>\n",
       "      <th></th>\n",
       "      <th></th>\n",
       "      <th></th>\n",
       "    </tr>\n",
       "  </thead>\n",
       "  <tbody>\n",
       "    <tr>\n",
       "      <th>14</th>\n",
       "      <td>80,000.00 - 95,000.00 $ /year</td>\n",
       "      <td>80,000.00</td>\n",
       "      <td>95,000.00 $ /year</td>\n",
       "      <td>year</td>\n",
       "    </tr>\n",
       "    <tr>\n",
       "      <th>19</th>\n",
       "      <td>60,000.00 - 72,000.00 $ /year</td>\n",
       "      <td>60,000.00</td>\n",
       "      <td>72,000.00 $ /year</td>\n",
       "      <td>year</td>\n",
       "    </tr>\n",
       "    <tr>\n",
       "      <th>29</th>\n",
       "      <td>70,000.00 - 100,000.00 $ /year</td>\n",
       "      <td>70,000.00</td>\n",
       "      <td>100,000.00 $ /year</td>\n",
       "      <td>year</td>\n",
       "    </tr>\n",
       "    <tr>\n",
       "      <th>32</th>\n",
       "      <td>75,000.00 - 100,000.00 $ /year</td>\n",
       "      <td>75,000.00</td>\n",
       "      <td>100,000.00 $ /year</td>\n",
       "      <td>year</td>\n",
       "    </tr>\n",
       "    <tr>\n",
       "      <th>36</th>\n",
       "      <td>68,000.00 - 72,000.00 $ /year</td>\n",
       "      <td>68,000.00</td>\n",
       "      <td>72,000.00 $ /year</td>\n",
       "      <td>year</td>\n",
       "    </tr>\n",
       "    <tr>\n",
       "      <th>...</th>\n",
       "      <td>...</td>\n",
       "      <td>...</td>\n",
       "      <td>...</td>\n",
       "      <td>...</td>\n",
       "    </tr>\n",
       "    <tr>\n",
       "      <th>21982</th>\n",
       "      <td>70,000.00 - 80,000.00 $ /year</td>\n",
       "      <td>70,000.00</td>\n",
       "      <td>80,000.00 $ /year</td>\n",
       "      <td>year</td>\n",
       "    </tr>\n",
       "    <tr>\n",
       "      <th>21987</th>\n",
       "      <td>$80,000.00+ /year</td>\n",
       "      <td>NaN</td>\n",
       "      <td>$80,000.00+ /year</td>\n",
       "      <td>year</td>\n",
       "    </tr>\n",
       "    <tr>\n",
       "      <th>21995</th>\n",
       "      <td>120,000.00 - 160,000.00 $ /yearbonus</td>\n",
       "      <td>120,000.00</td>\n",
       "      <td>160,000.00 $ /yearbonus</td>\n",
       "      <td>year</td>\n",
       "    </tr>\n",
       "    <tr>\n",
       "      <th>21996</th>\n",
       "      <td>45,000.00 - 60,000.00 $ /year</td>\n",
       "      <td>45,000.00</td>\n",
       "      <td>60,000.00 $ /year</td>\n",
       "      <td>year</td>\n",
       "    </tr>\n",
       "    <tr>\n",
       "      <th>21999</th>\n",
       "      <td>40,000.00 - 46,000.00 $ /year+ annual bonus (u...</td>\n",
       "      <td>40,000.00</td>\n",
       "      <td>46,000.00 $ /year+ annual bonus (up to 15% of...</td>\n",
       "      <td>year</td>\n",
       "    </tr>\n",
       "  </tbody>\n",
       "</table>\n",
       "<p>1758 rows × 4 columns</p>\n",
       "</div>"
      ],
      "text/plain": [
       "                                                  salary  from_salary  \\\n",
       "id                                                                      \n",
       "14                         80,000.00 - 95,000.00 $ /year   80,000.00    \n",
       "19                         60,000.00 - 72,000.00 $ /year   60,000.00    \n",
       "29                        70,000.00 - 100,000.00 $ /year   70,000.00    \n",
       "32                        75,000.00 - 100,000.00 $ /year   75,000.00    \n",
       "36                         68,000.00 - 72,000.00 $ /year   68,000.00    \n",
       "...                                                  ...          ...   \n",
       "21982                      70,000.00 - 80,000.00 $ /year   70,000.00    \n",
       "21987                                  $80,000.00+ /year          NaN   \n",
       "21995               120,000.00 - 160,000.00 $ /yearbonus  120,000.00    \n",
       "21996                      45,000.00 - 60,000.00 $ /year   45,000.00    \n",
       "21999  40,000.00 - 46,000.00 $ /year+ annual bonus (u...   40,000.00    \n",
       "\n",
       "                                               to_salary yearly_hourly  \n",
       "id                                                                      \n",
       "14                                     95,000.00 $ /year          year  \n",
       "19                                     72,000.00 $ /year          year  \n",
       "29                                    100,000.00 $ /year          year  \n",
       "32                                    100,000.00 $ /year          year  \n",
       "36                                     72,000.00 $ /year          year  \n",
       "...                                                  ...           ...  \n",
       "21982                                  80,000.00 $ /year          year  \n",
       "21987                                  $80,000.00+ /year          year  \n",
       "21995                            160,000.00 $ /yearbonus          year  \n",
       "21996                                  60,000.00 $ /year          year  \n",
       "21999   46,000.00 $ /year+ annual bonus (up to 15% of...          year  \n",
       "\n",
       "[1758 rows x 4 columns]"
      ]
     },
     "execution_count": 27,
     "metadata": {},
     "output_type": "execute_result"
    }
   ],
   "source": [
    "filt = (pd.isna(df['salary']) == False) & (df['salary'].str.contains('year') == True)\n",
    "\n",
    "df.loc[filt][['salary', 'from_salary', 'to_salary', 'yearly_hourly']]"
   ]
  },
  {
   "cell_type": "markdown",
   "metadata": {},
   "source": [
    "# View hour results"
   ]
  },
  {
   "cell_type": "code",
   "execution_count": 28,
   "metadata": {},
   "outputs": [
    {
     "data": {
      "text/html": [
       "<div>\n",
       "<style scoped>\n",
       "    .dataframe tbody tr th:only-of-type {\n",
       "        vertical-align: middle;\n",
       "    }\n",
       "\n",
       "    .dataframe tbody tr th {\n",
       "        vertical-align: top;\n",
       "    }\n",
       "\n",
       "    .dataframe thead th {\n",
       "        text-align: right;\n",
       "    }\n",
       "</style>\n",
       "<table border=\"1\" class=\"dataframe\">\n",
       "  <thead>\n",
       "    <tr style=\"text-align: right;\">\n",
       "      <th></th>\n",
       "      <th>salary</th>\n",
       "      <th>from_salary</th>\n",
       "      <th>to_salary</th>\n",
       "      <th>yearly_hourly</th>\n",
       "    </tr>\n",
       "    <tr>\n",
       "      <th>id</th>\n",
       "      <th></th>\n",
       "      <th></th>\n",
       "      <th></th>\n",
       "      <th></th>\n",
       "    </tr>\n",
       "  </thead>\n",
       "  <tbody>\n",
       "    <tr>\n",
       "      <th>13</th>\n",
       "      <td>9.00 - 13.00 $ /hour</td>\n",
       "      <td>9.00</td>\n",
       "      <td>13.00 $ /hour</td>\n",
       "      <td>hour</td>\n",
       "    </tr>\n",
       "    <tr>\n",
       "      <th>30</th>\n",
       "      <td>62.00 - 81.00 $ /hour</td>\n",
       "      <td>62.00</td>\n",
       "      <td>81.00 $ /hour</td>\n",
       "      <td>hour</td>\n",
       "    </tr>\n",
       "    <tr>\n",
       "      <th>43</th>\n",
       "      <td>15.00 - 16.00 $ /hour</td>\n",
       "      <td>15.00</td>\n",
       "      <td>16.00 $ /hour</td>\n",
       "      <td>hour</td>\n",
       "    </tr>\n",
       "    <tr>\n",
       "      <th>68</th>\n",
       "      <td>13.75 - 16.75 $ /hourYear End Bonus</td>\n",
       "      <td>13.75</td>\n",
       "      <td>16.75 $ /hourYear End Bonus</td>\n",
       "      <td>hour</td>\n",
       "    </tr>\n",
       "    <tr>\n",
       "      <th>80</th>\n",
       "      <td>40.00 - 50.00 $ /hour</td>\n",
       "      <td>40.00</td>\n",
       "      <td>50.00 $ /hour</td>\n",
       "      <td>hour</td>\n",
       "    </tr>\n",
       "    <tr>\n",
       "      <th>...</th>\n",
       "      <td>...</td>\n",
       "      <td>...</td>\n",
       "      <td>...</td>\n",
       "      <td>...</td>\n",
       "    </tr>\n",
       "    <tr>\n",
       "      <th>21909</th>\n",
       "      <td>17.00 - 21.00 $ /hour</td>\n",
       "      <td>17.00</td>\n",
       "      <td>21.00 $ /hour</td>\n",
       "      <td>hour</td>\n",
       "    </tr>\n",
       "    <tr>\n",
       "      <th>21912</th>\n",
       "      <td>20.00 - 22.00 $ /hour</td>\n",
       "      <td>20.00</td>\n",
       "      <td>22.00 $ /hour</td>\n",
       "      <td>hour</td>\n",
       "    </tr>\n",
       "    <tr>\n",
       "      <th>21913</th>\n",
       "      <td>50.00 - 55.00 $ /hour</td>\n",
       "      <td>50.00</td>\n",
       "      <td>55.00 $ /hour</td>\n",
       "      <td>hour</td>\n",
       "    </tr>\n",
       "    <tr>\n",
       "      <th>21927</th>\n",
       "      <td>30.00 - 35.00 $ /hour</td>\n",
       "      <td>30.00</td>\n",
       "      <td>35.00 $ /hour</td>\n",
       "      <td>hour</td>\n",
       "    </tr>\n",
       "    <tr>\n",
       "      <th>21998</th>\n",
       "      <td>25.00 - 28.00 $ /hour</td>\n",
       "      <td>25.00</td>\n",
       "      <td>28.00 $ /hour</td>\n",
       "      <td>hour</td>\n",
       "    </tr>\n",
       "  </tbody>\n",
       "</table>\n",
       "<p>1145 rows × 4 columns</p>\n",
       "</div>"
      ],
      "text/plain": [
       "                                    salary from_salary  \\\n",
       "id                                                       \n",
       "13                    9.00 - 13.00 $ /hour       9.00    \n",
       "30                   62.00 - 81.00 $ /hour      62.00    \n",
       "43                   15.00 - 16.00 $ /hour      15.00    \n",
       "68     13.75 - 16.75 $ /hourYear End Bonus      13.75    \n",
       "80                   40.00 - 50.00 $ /hour      40.00    \n",
       "...                                    ...         ...   \n",
       "21909                17.00 - 21.00 $ /hour      17.00    \n",
       "21912                20.00 - 22.00 $ /hour      20.00    \n",
       "21913                50.00 - 55.00 $ /hour      50.00    \n",
       "21927                30.00 - 35.00 $ /hour      30.00    \n",
       "21998                25.00 - 28.00 $ /hour      25.00    \n",
       "\n",
       "                          to_salary yearly_hourly  \n",
       "id                                                 \n",
       "13                    13.00 $ /hour          hour  \n",
       "30                    81.00 $ /hour          hour  \n",
       "43                    16.00 $ /hour          hour  \n",
       "68      16.75 $ /hourYear End Bonus          hour  \n",
       "80                    50.00 $ /hour          hour  \n",
       "...                             ...           ...  \n",
       "21909                 21.00 $ /hour          hour  \n",
       "21912                 22.00 $ /hour          hour  \n",
       "21913                 55.00 $ /hour          hour  \n",
       "21927                 35.00 $ /hour          hour  \n",
       "21998                 28.00 $ /hour          hour  \n",
       "\n",
       "[1145 rows x 4 columns]"
      ]
     },
     "execution_count": 28,
     "metadata": {},
     "output_type": "execute_result"
    }
   ],
   "source": [
    "filt = (pd.isna(df['salary']) == False) & (df['salary'].str.contains('hour') == True)\n",
    "\n",
    "df.loc[filt][['salary', 'from_salary', 'to_salary', 'yearly_hourly']]"
   ]
  },
  {
   "cell_type": "markdown",
   "metadata": {},
   "source": [
    "# View Monthly"
   ]
  },
  {
   "cell_type": "code",
   "execution_count": 29,
   "metadata": {},
   "outputs": [
    {
     "data": {
      "text/html": [
       "<div>\n",
       "<style scoped>\n",
       "    .dataframe tbody tr th:only-of-type {\n",
       "        vertical-align: middle;\n",
       "    }\n",
       "\n",
       "    .dataframe tbody tr th {\n",
       "        vertical-align: top;\n",
       "    }\n",
       "\n",
       "    .dataframe thead th {\n",
       "        text-align: right;\n",
       "    }\n",
       "</style>\n",
       "<table border=\"1\" class=\"dataframe\">\n",
       "  <thead>\n",
       "    <tr style=\"text-align: right;\">\n",
       "      <th></th>\n",
       "      <th>salary</th>\n",
       "      <th>from_salary</th>\n",
       "      <th>to_salary</th>\n",
       "      <th>yearly_hourly</th>\n",
       "    </tr>\n",
       "    <tr>\n",
       "      <th>id</th>\n",
       "      <th></th>\n",
       "      <th></th>\n",
       "      <th></th>\n",
       "      <th></th>\n",
       "    </tr>\n",
       "  </thead>\n",
       "  <tbody>\n",
       "    <tr>\n",
       "      <th>2662</th>\n",
       "      <td>17,688.94 - 20,971.00 $ /month</td>\n",
       "      <td>17,688.94</td>\n",
       "      <td>20,971.00 $ /month</td>\n",
       "      <td>month</td>\n",
       "    </tr>\n",
       "    <tr>\n",
       "      <th>2900</th>\n",
       "      <td>3,137.89 - 3,865.66 $ /month</td>\n",
       "      <td>3,137.89</td>\n",
       "      <td>3,865.66 $ /month</td>\n",
       "      <td>month</td>\n",
       "    </tr>\n",
       "    <tr>\n",
       "      <th>3300</th>\n",
       "      <td>17,688.94 - 20,971.00 $ /month</td>\n",
       "      <td>17,688.94</td>\n",
       "      <td>20,971.00 $ /month</td>\n",
       "      <td>month</td>\n",
       "    </tr>\n",
       "    <tr>\n",
       "      <th>3317</th>\n",
       "      <td>6,833.33 - 8,060.00 $ /month</td>\n",
       "      <td>6,833.33</td>\n",
       "      <td>8,060.00 $ /month</td>\n",
       "      <td>month</td>\n",
       "    </tr>\n",
       "    <tr>\n",
       "      <th>3345</th>\n",
       "      <td>4,224.31 - 6,579.41 $ /month</td>\n",
       "      <td>4,224.31</td>\n",
       "      <td>6,579.41 $ /month</td>\n",
       "      <td>month</td>\n",
       "    </tr>\n",
       "    <tr>\n",
       "      <th>3622</th>\n",
       "      <td>4,905.22 - 6,579.41 $ /month</td>\n",
       "      <td>4,905.22</td>\n",
       "      <td>6,579.41 $ /month</td>\n",
       "      <td>month</td>\n",
       "    </tr>\n",
       "    <tr>\n",
       "      <th>5949</th>\n",
       "      <td>4,362.39 - 5,445.57 $ /month</td>\n",
       "      <td>4,362.39</td>\n",
       "      <td>5,445.57 $ /month</td>\n",
       "      <td>month</td>\n",
       "    </tr>\n",
       "    <tr>\n",
       "      <th>12333</th>\n",
       "      <td>1,800.00 - 3,500.00 $ /month</td>\n",
       "      <td>1,800.00</td>\n",
       "      <td>3,500.00 $ /month</td>\n",
       "      <td>month</td>\n",
       "    </tr>\n",
       "    <tr>\n",
       "      <th>13554</th>\n",
       "      <td>5,882.93 - 7,883.20 $ /month</td>\n",
       "      <td>5,882.93</td>\n",
       "      <td>7,883.20 $ /month</td>\n",
       "      <td>month</td>\n",
       "    </tr>\n",
       "    <tr>\n",
       "      <th>14150</th>\n",
       "      <td>3,674.00 - 4,690.00 $ /month</td>\n",
       "      <td>3,674.00</td>\n",
       "      <td>4,690.00 $ /month</td>\n",
       "      <td>month</td>\n",
       "    </tr>\n",
       "    <tr>\n",
       "      <th>14558</th>\n",
       "      <td>6,401.00 - 7,935.00 $ /month</td>\n",
       "      <td>6,401.00</td>\n",
       "      <td>7,935.00 $ /month</td>\n",
       "      <td>month</td>\n",
       "    </tr>\n",
       "    <tr>\n",
       "      <th>15189</th>\n",
       "      <td>1,878.00 - 1,878.00 $ /month</td>\n",
       "      <td>1,878.00</td>\n",
       "      <td>1,878.00 $ /month</td>\n",
       "      <td>month</td>\n",
       "    </tr>\n",
       "    <tr>\n",
       "      <th>16337</th>\n",
       "      <td>5,153.00 - 6,264.00 $ /month</td>\n",
       "      <td>5,153.00</td>\n",
       "      <td>6,264.00 $ /month</td>\n",
       "      <td>month</td>\n",
       "    </tr>\n",
       "    <tr>\n",
       "      <th>17609</th>\n",
       "      <td>4,900.00 - 6,125.00 $ /month</td>\n",
       "      <td>4,900.00</td>\n",
       "      <td>6,125.00 $ /month</td>\n",
       "      <td>month</td>\n",
       "    </tr>\n",
       "    <tr>\n",
       "      <th>18109</th>\n",
       "      <td>6,000.00 - 10,000.00 $ /month</td>\n",
       "      <td>6,000.00</td>\n",
       "      <td>10,000.00 $ /month</td>\n",
       "      <td>month</td>\n",
       "    </tr>\n",
       "    <tr>\n",
       "      <th>18281</th>\n",
       "      <td>5,000.00 - 15,000.00 $ /monthPlus Bonuses</td>\n",
       "      <td>5,000.00</td>\n",
       "      <td>15,000.00 $ /monthPlus Bonuses</td>\n",
       "      <td>month</td>\n",
       "    </tr>\n",
       "    <tr>\n",
       "      <th>19265</th>\n",
       "      <td>3,293.00 - 4,542.00 $ /month</td>\n",
       "      <td>3,293.00</td>\n",
       "      <td>4,542.00 $ /month</td>\n",
       "      <td>month</td>\n",
       "    </tr>\n",
       "  </tbody>\n",
       "</table>\n",
       "</div>"
      ],
      "text/plain": [
       "                                          salary from_salary  \\\n",
       "id                                                             \n",
       "2662              17,688.94 - 20,971.00 $ /month  17,688.94    \n",
       "2900                3,137.89 - 3,865.66 $ /month   3,137.89    \n",
       "3300              17,688.94 - 20,971.00 $ /month  17,688.94    \n",
       "3317                6,833.33 - 8,060.00 $ /month   6,833.33    \n",
       "3345                4,224.31 - 6,579.41 $ /month   4,224.31    \n",
       "3622                4,905.22 - 6,579.41 $ /month   4,905.22    \n",
       "5949                4,362.39 - 5,445.57 $ /month   4,362.39    \n",
       "12333               1,800.00 - 3,500.00 $ /month   1,800.00    \n",
       "13554               5,882.93 - 7,883.20 $ /month   5,882.93    \n",
       "14150               3,674.00 - 4,690.00 $ /month   3,674.00    \n",
       "14558               6,401.00 - 7,935.00 $ /month   6,401.00    \n",
       "15189               1,878.00 - 1,878.00 $ /month   1,878.00    \n",
       "16337               5,153.00 - 6,264.00 $ /month   5,153.00    \n",
       "17609               4,900.00 - 6,125.00 $ /month   4,900.00    \n",
       "18109              6,000.00 - 10,000.00 $ /month   6,000.00    \n",
       "18281  5,000.00 - 15,000.00 $ /monthPlus Bonuses   5,000.00    \n",
       "19265               3,293.00 - 4,542.00 $ /month   3,293.00    \n",
       "\n",
       "                             to_salary yearly_hourly  \n",
       "id                                                    \n",
       "2662                20,971.00 $ /month         month  \n",
       "2900                 3,865.66 $ /month         month  \n",
       "3300                20,971.00 $ /month         month  \n",
       "3317                 8,060.00 $ /month         month  \n",
       "3345                 6,579.41 $ /month         month  \n",
       "3622                 6,579.41 $ /month         month  \n",
       "5949                 5,445.57 $ /month         month  \n",
       "12333                3,500.00 $ /month         month  \n",
       "13554                7,883.20 $ /month         month  \n",
       "14150                4,690.00 $ /month         month  \n",
       "14558                7,935.00 $ /month         month  \n",
       "15189                1,878.00 $ /month         month  \n",
       "16337                6,264.00 $ /month         month  \n",
       "17609                6,125.00 $ /month         month  \n",
       "18109               10,000.00 $ /month         month  \n",
       "18281   15,000.00 $ /monthPlus Bonuses         month  \n",
       "19265                4,542.00 $ /month         month  "
      ]
     },
     "execution_count": 29,
     "metadata": {},
     "output_type": "execute_result"
    }
   ],
   "source": [
    "filt = (pd.isna(df['salary']) == False) & (df['salary'].str.contains(\"\"\"/month\"\"\") == True)\n",
    "\n",
    "df.loc[filt][['salary', 'from_salary', 'to_salary', 'yearly_hourly']]"
   ]
  },
  {
   "cell_type": "markdown",
   "metadata": {},
   "source": [
    "# View Up to..."
   ]
  },
  {
   "cell_type": "code",
   "execution_count": 30,
   "metadata": {},
   "outputs": [
    {
     "data": {
      "text/html": [
       "<div>\n",
       "<style scoped>\n",
       "    .dataframe tbody tr th:only-of-type {\n",
       "        vertical-align: middle;\n",
       "    }\n",
       "\n",
       "    .dataframe tbody tr th {\n",
       "        vertical-align: top;\n",
       "    }\n",
       "\n",
       "    .dataframe thead th {\n",
       "        text-align: right;\n",
       "    }\n",
       "</style>\n",
       "<table border=\"1\" class=\"dataframe\">\n",
       "  <thead>\n",
       "    <tr style=\"text-align: right;\">\n",
       "      <th></th>\n",
       "      <th>salary</th>\n",
       "      <th>from_salary</th>\n",
       "      <th>to_salary</th>\n",
       "      <th>yearly_hourly</th>\n",
       "    </tr>\n",
       "    <tr>\n",
       "      <th>id</th>\n",
       "      <th></th>\n",
       "      <th></th>\n",
       "      <th></th>\n",
       "      <th></th>\n",
       "    </tr>\n",
       "  </thead>\n",
       "  <tbody>\n",
       "    <tr>\n",
       "      <th>42</th>\n",
       "      <td>Up to $32000.00</td>\n",
       "      <td>NaN</td>\n",
       "      <td>32000.00</td>\n",
       "      <td>upto</td>\n",
       "    </tr>\n",
       "    <tr>\n",
       "      <th>154</th>\n",
       "      <td>Up to $45000.00</td>\n",
       "      <td>NaN</td>\n",
       "      <td>45000.00</td>\n",
       "      <td>upto</td>\n",
       "    </tr>\n",
       "    <tr>\n",
       "      <th>2630</th>\n",
       "      <td>Up to $18.00</td>\n",
       "      <td>NaN</td>\n",
       "      <td>18.00</td>\n",
       "      <td>uptohour</td>\n",
       "    </tr>\n",
       "    <tr>\n",
       "      <th>2639</th>\n",
       "      <td>Up to $13.00</td>\n",
       "      <td>NaN</td>\n",
       "      <td>13.00</td>\n",
       "      <td>uptohour</td>\n",
       "    </tr>\n",
       "    <tr>\n",
       "      <th>2651</th>\n",
       "      <td>Up to $18.00</td>\n",
       "      <td>NaN</td>\n",
       "      <td>18.00</td>\n",
       "      <td>uptohour</td>\n",
       "    </tr>\n",
       "    <tr>\n",
       "      <th>...</th>\n",
       "      <td>...</td>\n",
       "      <td>...</td>\n",
       "      <td>...</td>\n",
       "      <td>...</td>\n",
       "    </tr>\n",
       "    <tr>\n",
       "      <th>14069</th>\n",
       "      <td>Up to $15.00</td>\n",
       "      <td>NaN</td>\n",
       "      <td>15.00</td>\n",
       "      <td>uptohour</td>\n",
       "    </tr>\n",
       "    <tr>\n",
       "      <th>20014</th>\n",
       "      <td>Up to $14.00</td>\n",
       "      <td>NaN</td>\n",
       "      <td>14.00</td>\n",
       "      <td>uptohour</td>\n",
       "    </tr>\n",
       "    <tr>\n",
       "      <th>21168</th>\n",
       "      <td>Up to $20.00</td>\n",
       "      <td>NaN</td>\n",
       "      <td>20.00</td>\n",
       "      <td>uptohour</td>\n",
       "    </tr>\n",
       "    <tr>\n",
       "      <th>21270</th>\n",
       "      <td>Up to $31500.00</td>\n",
       "      <td>NaN</td>\n",
       "      <td>31500.00</td>\n",
       "      <td>upto</td>\n",
       "    </tr>\n",
       "    <tr>\n",
       "      <th>21902</th>\n",
       "      <td>Up to $35000.00</td>\n",
       "      <td>NaN</td>\n",
       "      <td>35000.00</td>\n",
       "      <td>upto</td>\n",
       "    </tr>\n",
       "  </tbody>\n",
       "</table>\n",
       "<p>101 rows × 4 columns</p>\n",
       "</div>"
      ],
      "text/plain": [
       "                salary from_salary to_salary yearly_hourly\n",
       "id                                                        \n",
       "42     Up to $32000.00         NaN  32000.00          upto\n",
       "154    Up to $45000.00         NaN  45000.00          upto\n",
       "2630      Up to $18.00         NaN     18.00      uptohour\n",
       "2639      Up to $13.00         NaN     13.00      uptohour\n",
       "2651      Up to $18.00         NaN     18.00      uptohour\n",
       "...                ...         ...       ...           ...\n",
       "14069     Up to $15.00         NaN     15.00      uptohour\n",
       "20014     Up to $14.00         NaN     14.00      uptohour\n",
       "21168     Up to $20.00         NaN     20.00      uptohour\n",
       "21270  Up to $31500.00         NaN  31500.00          upto\n",
       "21902  Up to $35000.00         NaN  35000.00          upto\n",
       "\n",
       "[101 rows x 4 columns]"
      ]
     },
     "execution_count": 30,
     "metadata": {},
     "output_type": "execute_result"
    }
   ],
   "source": [
    "filt = (pd.isna(df['salary']) == False) & (df['yearly_hourly'].str.contains('upto') == True)\n",
    "\n",
    "df.loc[filt][['salary', 'from_salary', 'to_salary', 'yearly_hourly']]"
   ]
  },
  {
   "cell_type": "markdown",
   "metadata": {},
   "source": [
    "# View others\n",
    "There are still some hourly/yearly salaries in a different format.\\\n",
    "I don't think including any of these is relevant for the data nor is going to make a difference.\n",
    "I am leaving the rest of the rows as NaN."
   ]
  },
  {
   "cell_type": "code",
   "execution_count": 64,
   "metadata": {},
   "outputs": [
    {
     "name": "stdout",
     "output_type": "stream",
     "text": [
      "                                                 salary from_salary to_salary  \\\n",
      "id                                                                              \n",
      "23                         Excellent Pay and Incentives         NaN       nan   \n",
      "58                              Salary, plus commission         NaN       nan   \n",
      "70                                     To be discussed.         NaN       nan   \n",
      "92              bonus, 401K matching, medical, vacation         NaN       nan   \n",
      "125                                                 DOE         NaN       nan   \n",
      "179                      Negotiable based on experience         NaN       nan   \n",
      "183                                   Competitive Wages         NaN       nan   \n",
      "209   Burg Simpson offers excellent benefits and com...         NaN       nan   \n",
      "225                 Excellent compensation and benefits         NaN       nan   \n",
      "451                                       Yearly Salary         NaN       nan   \n",
      "484                                   $300 Hiring Bonus         NaN       nan   \n",
      "521                         Salary based on experience.         NaN       nan   \n",
      "659                                 Bonus Opportunities         NaN       nan   \n",
      "897                Competitive Base Salary + Commission         NaN       nan   \n",
      "1056               Competitive Base Salary + Commission         NaN       nan   \n",
      "1064                               Uncapped commissions         NaN       nan   \n",
      "1067                               $4,000 Sign-On Bonus         NaN       nan   \n",
      "1076                                Bonus Opportunities         NaN       nan   \n",
      "1103                                   $1,100.00+ /week         NaN       nan   \n",
      "1179  Employee Health/Dental Benefits; 401k Employer...         NaN       nan   \n",
      "\n",
      "     yearly_hourly  \n",
      "id                  \n",
      "23             NaN  \n",
      "58             NaN  \n",
      "70             NaN  \n",
      "92             NaN  \n",
      "125            NaN  \n",
      "179            NaN  \n",
      "183            NaN  \n",
      "209            NaN  \n",
      "225            NaN  \n",
      "451            NaN  \n",
      "484            NaN  \n",
      "521            NaN  \n",
      "659            NaN  \n",
      "897            NaN  \n",
      "1056           NaN  \n",
      "1064           NaN  \n",
      "1067           NaN  \n",
      "1076           NaN  \n",
      "1103           NaN  \n",
      "1179           NaN  \n"
     ]
    }
   ],
   "source": [
    "filt = (pd.isna(df['salary']) == False) & (pd.isna(df['yearly_hourly']) == True)\n",
    "\n",
    "with pd.option_context('display.max_rows', None,\n",
    "                       'display.max_columns', None,\n",
    "                       'display.precision', 3,\n",
    "                       ):\n",
    "    print(df.loc[filt][['salary', 'from_salary', 'to_salary', 'yearly_hourly']].head(20))"
   ]
  },
  {
   "cell_type": "markdown",
   "metadata": {},
   "source": [
    "# Clean \"from_salary\" & \"to_salary\" columns\n",
    "We have the salaries mixed with different strings and symbols."
   ]
  },
  {
   "cell_type": "code",
   "execution_count": 65,
   "metadata": {},
   "outputs": [
    {
     "name": "stdout",
     "output_type": "stream",
     "text": [
      "   from_salary           to_salary yearly_hourly\n",
      "id                                              \n",
      "0          NaN                 nan           NaN\n",
      "1          NaN                 nan           NaN\n",
      "2          NaN                 nan           NaN\n",
      "3          NaN                 nan           NaN\n",
      "4          NaN                 nan           NaN\n",
      "5          NaN                 nan           NaN\n",
      "6          NaN                 nan           NaN\n",
      "7          NaN                 nan           NaN\n",
      "8          NaN                 nan           NaN\n",
      "9          NaN                 nan           NaN\n",
      "10         NaN                 nan           NaN\n",
      "11         NaN                 nan           NaN\n",
      "12         NaN                 nan           NaN\n",
      "13       9.00        13.00 $ /hour          hour\n",
      "14  80,000.00    95,000.00 $ /year          year\n",
      "15         NaN                 nan           NaN\n",
      "16         NaN                 nan           NaN\n",
      "17         NaN                 nan           NaN\n",
      "18         NaN                 nan           NaN\n",
      "19  60,000.00    72,000.00 $ /year          year\n"
     ]
    }
   ],
   "source": [
    "df[['from_salary', 'to_salary']]\n",
    "\n",
    "filt = (pd.isna(df['salary']) == False) & (pd.isna(df['yearly_hourly']) == True)\n",
    "\n",
    "with pd.option_context('display.max_rows', None,\n",
    "                       'display.max_columns', None,\n",
    "                       'display.precision', 3,\n",
    "                       ):\n",
    "    print(df.loc[:, ['from_salary', 'to_salary', 'yearly_hourly']].head(20))"
   ]
  },
  {
   "cell_type": "markdown",
   "metadata": {},
   "source": [
    "Copy of \"from_salary\" and \"to_salary\" columns"
   ]
  },
  {
   "cell_type": "code",
   "execution_count": 33,
   "metadata": {},
   "outputs": [],
   "source": [
    "df['copy_from_salary'] = df['from_salary']\n",
    "\n",
    "df['copy_to_salary'] = df['to_salary']"
   ]
  },
  {
   "cell_type": "markdown",
   "metadata": {},
   "source": [
    "Make corrections for the nan values in the \"from_salary\" column"
   ]
  },
  {
   "cell_type": "code",
   "execution_count": 34,
   "metadata": {},
   "outputs": [
    {
     "data": {
      "text/plain": [
       "from_salary    <class 'float'>\n",
       "Name: 42, dtype: object"
      ]
     },
     "execution_count": 34,
     "metadata": {},
     "output_type": "execute_result"
    }
   ],
   "source": [
    "df.loc[42, ['from_salary']].apply(type) #NaN IS EQUAL TO FLOAT TYPE"
   ]
  },
  {
   "cell_type": "code",
   "execution_count": 35,
   "metadata": {},
   "outputs": [
    {
     "data": {
      "text/plain": [
       "from_salary    <class 'str'>\n",
       "Name: 0, dtype: object"
      ]
     },
     "execution_count": 35,
     "metadata": {},
     "output_type": "execute_result"
    }
   ],
   "source": [
    "df.loc[0, ['from_salary']].apply(type) #nan IS EQUAL TO STRING TYPE"
   ]
  },
  {
   "cell_type": "markdown",
   "metadata": {},
   "source": [
    "Some of the nan values were actually strings, so the np.nan filter didn't get them. I had to look them as 'nan'."
   ]
  },
  {
   "cell_type": "code",
   "execution_count": 36,
   "metadata": {},
   "outputs": [],
   "source": [
    "df['from_salary'] = df['from_salary'].astype(str)"
   ]
  },
  {
   "cell_type": "code",
   "execution_count": 37,
   "metadata": {},
   "outputs": [
    {
     "data": {
      "text/plain": [
       "from_salary    <class 'str'>\n",
       "Name: 42, dtype: object"
      ]
     },
     "execution_count": 37,
     "metadata": {},
     "output_type": "execute_result"
    }
   ],
   "source": [
    "df.loc[42, ['from_salary']].apply(type) #value is now changed to string type"
   ]
  },
  {
   "cell_type": "markdown",
   "metadata": {},
   "source": [
    "Next code block replaces the 'nan' values for np.nan or Null values."
   ]
  },
  {
   "cell_type": "code",
   "execution_count": 38,
   "metadata": {},
   "outputs": [],
   "source": [
    "df['from_salary'].replace(to_replace= 'nan', value= np.nan, inplace=True)"
   ]
  },
  {
   "cell_type": "markdown",
   "metadata": {},
   "source": [
    "Now we have the 'nan' values as Null and the rest of the values (70,000.00, $10.00) as strings."
   ]
  },
  {
   "cell_type": "code",
   "execution_count": 66,
   "metadata": {},
   "outputs": [
    {
     "name": "stdout",
     "output_type": "stream",
     "text": [
      "     from_salary\n",
      "id              \n",
      "13         9.00 \n",
      "14    80,000.00 \n",
      "19    60,000.00 \n",
      "29    70,000.00 \n",
      "30        62.00 \n",
      "32    75,000.00 \n",
      "36    68,000.00 \n",
      "41    58,000.00 \n",
      "43        15.00 \n",
      "61    45,000.00 \n",
      "64    40,000.00 \n",
      "68        13.75 \n",
      "80        40.00 \n",
      "82    80,000.00 \n",
      "83    35,000.00 \n",
      "88    80,000.00 \n",
      "100   31,000.00 \n",
      "111       50.00 \n",
      "117  100,000.00 \n",
      "121       17.00 \n"
     ]
    }
   ],
   "source": [
    "filt_from_salary = df.loc[df['from_salary'].notnull(), ['from_salary']]\n",
    "\n",
    "with pd.option_context('display.max_rows', None,\n",
    "                       'display.max_columns', None,\n",
    "                       'display.precision', 3,\n",
    "                       ):\n",
    "    print(filt_from_salary.head(20))"
   ]
  },
  {
   "cell_type": "markdown",
   "metadata": {},
   "source": [
    "# 'From_salary' Loop"
   ]
  },
  {
   "cell_type": "code",
   "execution_count": 71,
   "metadata": {},
   "outputs": [],
   "source": [
    "filt_from_salary = df['from_salary'].notnull() == True\n",
    "\n",
    "for i in df.index[filt_from_salary]:\n",
    "    val_from = df.loc[i, 'from_salary']\n",
    "    GetVals = list([char for char in val_from if char.isnumeric() or char == '.'])\n",
    "    df.loc[i, 'from_salary'] = ''.join(GetVals)"
   ]
  },
  {
   "cell_type": "code",
   "execution_count": 72,
   "metadata": {},
   "outputs": [
    {
     "data": {
      "text/plain": [
       "id\n",
       "0              NaN\n",
       "1              NaN\n",
       "2              NaN\n",
       "3              NaN\n",
       "4              NaN\n",
       "           ...    \n",
       "21995    120000.00\n",
       "21996     45000.00\n",
       "21997          NaN\n",
       "21998        25.00\n",
       "21999     40000.00\n",
       "Name: from_salary, Length: 22000, dtype: object"
      ]
     },
     "execution_count": 72,
     "metadata": {},
     "output_type": "execute_result"
    }
   ],
   "source": [
    "df['from_salary']"
   ]
  },
  {
   "cell_type": "code",
   "execution_count": 73,
   "metadata": {},
   "outputs": [],
   "source": [
    "df['from_salary'] = df['from_salary'].astype(float)"
   ]
  },
  {
   "cell_type": "code",
   "execution_count": 74,
   "metadata": {},
   "outputs": [
    {
     "data": {
      "text/plain": [
       "id\n",
       "0             NaN\n",
       "1             NaN\n",
       "2             NaN\n",
       "3             NaN\n",
       "4             NaN\n",
       "           ...   \n",
       "21995    120000.0\n",
       "21996     45000.0\n",
       "21997         NaN\n",
       "21998        25.0\n",
       "21999     40000.0\n",
       "Name: from_salary, Length: 22000, dtype: float64"
      ]
     },
     "execution_count": 74,
     "metadata": {},
     "output_type": "execute_result"
    }
   ],
   "source": [
    "df['from_salary']"
   ]
  },
  {
   "cell_type": "markdown",
   "metadata": {},
   "source": [
    "# 'To_salary' clean up"
   ]
  },
  {
   "cell_type": "code",
   "execution_count": 87,
   "metadata": {},
   "outputs": [
    {
     "name": "stdout",
     "output_type": "stream",
     "text": [
      "\n",
      " Contar valores \n",
      " <class 'str'>    22000\n",
      "Name: to_salary, dtype: int64\n",
      "id\n",
      "0        <class 'str'>\n",
      "1        <class 'str'>\n",
      "2        <class 'str'>\n",
      "3        <class 'str'>\n",
      "4        <class 'str'>\n",
      "             ...      \n",
      "21995    <class 'str'>\n",
      "21996    <class 'str'>\n",
      "21997    <class 'str'>\n",
      "21998    <class 'str'>\n",
      "21999    <class 'str'>\n",
      "Name: to_salary, Length: 22000, dtype: object\n"
     ]
    }
   ],
   "source": [
    "print('\\n Contar valores \\n', df['to_salary'].apply(type).value_counts()) # I wanted to know if there were more data types in the column. 22,000 string cells.\n",
    "\n",
    "print(df['to_salary'].apply(type))"
   ]
  },
  {
   "cell_type": "code",
   "execution_count": 97,
   "metadata": {},
   "outputs": [
    {
     "data": {
      "text/plain": [
       "18982"
      ]
     },
     "execution_count": 97,
     "metadata": {},
     "output_type": "execute_result"
    }
   ],
   "source": [
    "df.loc[(df['to_salary'] == 'nan') == True, 'to_salary'].count() # Check how many 'nan' values we have in the column. They should be Null (np.nan)"
   ]
  },
  {
   "cell_type": "code",
   "execution_count": 98,
   "metadata": {},
   "outputs": [],
   "source": [
    "df['to_salary'].replace(to_replace= 'nan', value= np.nan, inplace=True)"
   ]
  },
  {
   "cell_type": "code",
   "execution_count": 118,
   "metadata": {},
   "outputs": [
    {
     "name": "stdout",
     "output_type": "stream",
     "text": [
      "nan values:  0\n",
      "Null values:  18982\n"
     ]
    }
   ],
   "source": [
    "nan_values = df.loc[(df['to_salary'] == 'nan') == True, 'to_salary'].count()\n",
    "\n",
    "print('nan values: ', nan_values)\n",
    "\n",
    "Null_values = len(df.loc[(df['to_salary'].isnull()) == True, 'to_salary'])\n",
    "\n",
    "print('Null values: ', Null_values)"
   ]
  },
  {
   "cell_type": "code",
   "execution_count": 128,
   "metadata": {},
   "outputs": [
    {
     "name": "stdout",
     "output_type": "stream",
     "text": [
      "id\n",
      "13                               13.00 $ /hour\n",
      "14                           95,000.00 $ /year\n",
      "19                           72,000.00 $ /year\n",
      "29                          100,000.00 $ /year\n",
      "30                               81.00 $ /hour\n",
      "32                          100,000.00 $ /year\n",
      "36                           72,000.00 $ /year\n",
      "41                           65,000.00 $ /year\n",
      "42                                    32000.00\n",
      "43                               16.00 $ /hour\n",
      "61     100,000.00 $ /yearBonus, Benefits, 401k\n",
      "64                     50,000.00 $ /yearsalary\n",
      "68                 16.75 $ /hourYear End Bonus\n",
      "80                               50.00 $ /hour\n",
      "82                           90,000.00 $ /year\n",
      "Name: to_salary, dtype: object\n"
     ]
    }
   ],
   "source": [
    "filt_tosalary = df['to_salary'].isnull() == False\n",
    "\n",
    "with pd.option_context('display.max_rows', None,\n",
    "                       'display.max_columns', None,\n",
    "                       'display.precision', 3,\n",
    "                       ):\n",
    "    print(df.loc[filt_tosalary, 'to_salary'].head(15))"
   ]
  },
  {
   "cell_type": "markdown",
   "metadata": {},
   "source": [
    "# 'To_salary' Loop"
   ]
  },
  {
   "cell_type": "code",
   "execution_count": 182,
   "metadata": {},
   "outputs": [],
   "source": [
    "filt_tosalary = df['to_salary'].isnull() == False\n",
    "\n",
    "for i in df.index[filt_tosalary]:\n",
    "    val_tosal = df.loc[i, 'to_salary']\n",
    "    GetVals = list([char for char in val_tosal if char.isnumeric() or char == '.'])\n",
    "    df.loc[i, 'to_salary'] = ''.join(GetVals)"
   ]
  },
  {
   "cell_type": "markdown",
   "metadata": {},
   "source": [
    "More than 1 period per cell"
   ]
  },
  {
   "cell_type": "code",
   "execution_count": 201,
   "metadata": {},
   "outputs": [
    {
     "name": "stdout",
     "output_type": "stream",
     "text": [
      "id\n",
      "134           64000.00..\n",
      "980         10.50300401.\n",
      "1073          66000.00..\n",
      "2838      141773.008000.\n",
      "3758           80.00401.\n",
      "3978          75000.00..\n",
      "4001          90000.00..\n",
      "5256              20.00.\n",
      "5456         43640.00...\n",
      "5820         55000.0090.\n",
      "7432            19.71...\n",
      "9065             24.00..\n",
      "9247             15.00..\n",
      "9482          58000.00..\n",
      "10454            43.83..\n",
      "12138       50000.00401.\n",
      "13268          65000.00.\n",
      "14814          54000.00.\n",
      "14914         65000.00..\n",
      "17436            14.00..\n",
      "18256            14.00..\n",
      "19235     30000.00750.00\n",
      "19714    48000.002500.00\n",
      "21151          23.00401.\n",
      "21971          85000.00.\n",
      "Name: to_salary, dtype: object\n"
     ]
    }
   ],
   "source": [
    "not_null_salary = df['to_salary'].isnull() == False\n",
    "\n",
    "more_than_period = (df['to_salary'].str.count('\\.') > 1) == True\n",
    "\n",
    "print(df.loc[not_null_salary & more_than_period, 'to_salary'])\n",
    "\n",
    "# print(df.loc[not_null_salary & more_than_period == True, 'to_salary'])"
   ]
  },
  {
   "cell_type": "markdown",
   "metadata": {},
   "source": [
    "# Changes pending"
   ]
  },
  {
   "cell_type": "code",
   "execution_count": 173,
   "metadata": {},
   "outputs": [
    {
     "name": "stdout",
     "output_type": "stream",
     "text": [
      "Int64Index([  134,   980,  1073,  2838,  3758,  3978,  4001,  5256,  5456,\n",
      "             5820,  7432,  9065,  9247,  9482, 10454, 12138, 13268, 14814,\n",
      "            14914, 17436, 18256, 19235, 19714, 21151, 21971],\n",
      "           dtype='int64', name='id')\n"
     ]
    }
   ],
   "source": [
    "more_than_period = (df['to_salary'].str.count('\\.') > 1) == True\n",
    "\n",
    "less_than_period = (df['to_salary'].str.count('\\.') > 1) == False\n",
    "\n",
    "print(df.index[more_than_period])"
   ]
  },
  {
   "cell_type": "code",
   "execution_count": 180,
   "metadata": {},
   "outputs": [
    {
     "name": "stdout",
     "output_type": "stream",
     "text": [
      "7  64,000.00 $ /yearHighly Competitive Base Salary Plus Lucrative Bonus Plan, Benefit Package, in a Highly Diverse, Very Successful Company! Performance Based Upward Mobility Assured.​ Do Not Hesitate, Apply Today.​ Grow with this Nationally Present, Dynamic Restaurant Group\n",
      "3  10.50 $ /hour+ $300 retention bonus + anniversary bonus + on the spot recognition program + medical, dental, vision, flex spending, and 401K.\n",
      "7  66,000.00 $ /yearHighly Competitive Base Salary Plus Lucrative Bonus Plan, Benefit Package, in a Highly Diverse, Very Successful Company! Performance Based Upward Mobility Assured.​ Do Not Hesitate, Apply Today.​ Grow with this Nationally Present, Dynamic Restaurant Group\n",
      "8  141,773.00 $ /year$8,000 Recruitment Incentive Pay may be available.\n",
      "3  80.00 $ /yearFull benefits, 401k with company match.\n",
      "7  75,000.00 $ /yearHighly Competitive Base Salary Plus Lucrative Bonus Plan, Benefit Package, in a Highly Diverse, Very Successful Company! Performance Based Upward Mobility Assured.​ Do Not Hesitate, Apply Today.​ Grow with this Nationally Present, Dynamic Restaurant Group\n",
      "7  90,000.00 $ /yearHighly Competitive Base Salary Plus Lucrative Bonus Plan, Benefit Package, in a Highly Diverse, Very Successful Company! Performance Based Upward Mobility Assured.​ Do Not Hesitate, Apply Today.​ Grow with this Nationally Present, Dynamic Restaurant Group\n",
      "3  20.00 $ /hourBonuses available. Salary is DOE\n",
      "7 $43,640.00+ /yearB.O.E.\n",
      "7  55,000.00 $ /yearEnrollment in Firm Bonus Plan after 90 days.\n",
      "3  19.71 $ /hourB.O.E.\n",
      "3  24.00 $ /hourD.O.E\n",
      "3 $15.00+ /hourD.O.E\n",
      "7  58,000.00 $ /yearPlus O.T., Bonus, & Company Vehicle\n",
      "3  43.83 $ /hourFinal salary will be determined based on the selected candidate's experience and qualifications. Pay for current state employees will be based on the applicable pay transaction provisions of the Compensation Plan.\n",
      "7  50,000.00 $ /yearGenerous Paid Time Off, All holidays, Bonus, 401K with match, All Medical Dental & Vision Coverage, Life and AD&D Insurance, Retirement Plans, Flexible Spending Accounts, Transit Programs and much more.\n",
      "7  65,000.00 $ /yearRetirement, Health Care, Company Car, etc.\n",
      "7  54,000.00 $ /yearBonuses, PTO & full health, dental and life ins.\n",
      "7  65,000.00 $ /yearBonuses, Incentives, etc..\n",
      "3  14.00 $ /hourFull benefits. Profit sharing.\n",
      "3  14.00 $ /hourFull benefits. Profit sharing.\n",
      "7  30,000.00 $ /year$750.00 RePerformance Bonus\n",
      "7  48,000.00 $ /year2500.00 sign on bonus\n",
      "3  23.00 $ /hourMedical, Dental, Vision and Life Insurance as well as a matching 401k program.\n",
      "7  85,000.00 $ /yearHighly Competitive Base Salary PLUS Lucrative Bonus Plan in a Highly Diverse, Dynamic, Successful Company! Performance Based Upward Mobility Assured.​ Do Not Hesitate, Apply Today and Grow with this Nationally Present Award Winning Restaurant Group!\n"
     ]
    }
   ],
   "source": [
    "# if cell has a '.' then we are splitting the string in 2 parts.\n",
    "# If we don't split, then we just take out the non numeric and leaving only one '.'\n",
    "# If we split it, then we clean the first part and take the first 2 decimals from the second\n",
    "\n",
    "\n",
    "\n",
    "for i in df.index[filt_from_salary]:\n",
    "    val_from = df.loc[i, 'from_salary']\n",
    "    GetVals = list([char for char in val_from if char.isnumeric() or char == '.'])\n",
    "    df.loc[i, 'from_salary'] = ''.join(GetVals)\n",
    "\n",
    "\n",
    "\n",
    "\n",
    "\n",
    "more_than_period = (df['to_salary'].str.count('\\.') > 1) == True\n",
    "\n",
    "less_than_period = (df['to_salary'].str.count('\\.') > 1) == False\n",
    "\n",
    "for i in df.index[more_than_period]:\n",
    "    find_period = str(df.loc[i, 'to_salary'])\n",
    "    print(find_period.find('.'), find_period)\n",
    "\n",
    "\n",
    "\n"
   ]
  },
  {
   "cell_type": "markdown",
   "metadata": {},
   "source": [
    "# Changes pending\n",
    "Empty cells by column\n",
    "What can we do about these columns?\n",
    "\n",
    "-> date_added:\n",
    " <br />-> job_type: \n",
    " <br />-> organization: \n",
    " <br />-> salary:\n",
    " <br />-> sector: "
   ]
  }
 ],
 "metadata": {
  "interpreter": {
   "hash": "7d5c4801ed2f7111b96636c312e7b40cdf96baf0f798db38a95b8dd3c0de6eb6"
  },
  "kernelspec": {
   "display_name": "Python 3.9.7 ('base')",
   "language": "python",
   "name": "python3"
  },
  "language_info": {
   "codemirror_mode": {
    "name": "ipython",
    "version": 3
   },
   "file_extension": ".py",
   "mimetype": "text/x-python",
   "name": "python",
   "nbconvert_exporter": "python",
   "pygments_lexer": "ipython3",
   "version": "3.9.7"
  },
  "orig_nbformat": 4
 },
 "nbformat": 4,
 "nbformat_minor": 2
}
