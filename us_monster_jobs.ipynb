{
 "cells": [
  {
   "cell_type": "markdown",
   "metadata": {},
   "source": [
    "# US Monster Jobs Dataset Cleansing\n",
    "\n",
    "Personal checklist:\n",
    "-> Standarization of data: Fix inconsistent column names and convert into a standard format"
   ]
  },
  {
   "cell_type": "code",
   "execution_count": 2,
   "metadata": {},
   "outputs": [],
   "source": [
    "import pandas as pd\n",
    "\n",
    "import numpy as np"
   ]
  },
  {
   "cell_type": "code",
   "execution_count": 3,
   "metadata": {},
   "outputs": [],
   "source": [
    "df = pd.read_csv('C:\\\\Users\\\\jorge\\\\Desktop\\\\monster_com-job_sample.csv')"
   ]
  },
  {
   "cell_type": "markdown",
   "metadata": {},
   "source": [
    "# Overview of dataset"
   ]
  },
  {
   "cell_type": "code",
   "execution_count": 4,
   "metadata": {},
   "outputs": [
    {
     "data": {
      "text/plain": [
       "(22000, 14)"
      ]
     },
     "execution_count": 4,
     "metadata": {},
     "output_type": "execute_result"
    }
   ],
   "source": [
    "df.shape"
   ]
  },
  {
   "cell_type": "code",
   "execution_count": 5,
   "metadata": {},
   "outputs": [
    {
     "name": "stdout",
     "output_type": "stream",
     "text": [
      "<class 'pandas.core.frame.DataFrame'>\n",
      "RangeIndex: 22000 entries, 0 to 21999\n",
      "Data columns (total 14 columns):\n",
      " #   Column           Non-Null Count  Dtype \n",
      "---  ------           --------------  ----- \n",
      " 0   country          22000 non-null  object\n",
      " 1   country_code     22000 non-null  object\n",
      " 2   date_added       122 non-null    object\n",
      " 3   has_expired      22000 non-null  object\n",
      " 4   job_board        22000 non-null  object\n",
      " 5   job_description  22000 non-null  object\n",
      " 6   job_title        22000 non-null  object\n",
      " 7   job_type         20372 non-null  object\n",
      " 8   location         22000 non-null  object\n",
      " 9   organization     15133 non-null  object\n",
      " 10  page_url         22000 non-null  object\n",
      " 11  salary           3446 non-null   object\n",
      " 12  sector           16806 non-null  object\n",
      " 13  uniq_id          22000 non-null  object\n",
      "dtypes: object(14)\n",
      "memory usage: 2.3+ MB\n"
     ]
    }
   ],
   "source": [
    "df.info()"
   ]
  },
  {
   "cell_type": "markdown",
   "metadata": {},
   "source": [
    "# 1. Standarization of data\n",
    "-> Column names/format: I don't see any relevant errors in the column name format. Am I missing something?\n",
    " <br />No caps, no format differences between one name and another."
   ]
  },
  {
   "cell_type": "code",
   "execution_count": 6,
   "metadata": {},
   "outputs": [
    {
     "data": {
      "text/plain": [
       "Index(['country', 'country_code', 'date_added', 'has_expired', 'job_board',\n",
       "       'job_description', 'job_title', 'job_type', 'location', 'organization',\n",
       "       'page_url', 'salary', 'sector', 'uniq_id'],\n",
       "      dtype='object')"
      ]
     },
     "execution_count": 6,
     "metadata": {},
     "output_type": "execute_result"
    }
   ],
   "source": [
    "df.columns"
   ]
  },
  {
   "cell_type": "markdown",
   "metadata": {},
   "source": [
    "# 2. Data Type Conversion\n",
    "Data in df is of 'object' type. We'll have to convert the data type of the columns according to the data in each one of them."
   ]
  },
  {
   "cell_type": "code",
   "execution_count": 7,
   "metadata": {},
   "outputs": [
    {
     "name": "stdout",
     "output_type": "stream",
     "text": [
      "<class 'pandas.core.frame.DataFrame'>\n",
      "RangeIndex: 22000 entries, 0 to 21999\n",
      "Data columns (total 14 columns):\n",
      " #   Column           Non-Null Count  Dtype \n",
      "---  ------           --------------  ----- \n",
      " 0   country          22000 non-null  object\n",
      " 1   country_code     22000 non-null  object\n",
      " 2   date_added       122 non-null    object\n",
      " 3   has_expired      22000 non-null  object\n",
      " 4   job_board        22000 non-null  object\n",
      " 5   job_description  22000 non-null  object\n",
      " 6   job_title        22000 non-null  object\n",
      " 7   job_type         20372 non-null  object\n",
      " 8   location         22000 non-null  object\n",
      " 9   organization     15133 non-null  object\n",
      " 10  page_url         22000 non-null  object\n",
      " 11  salary           3446 non-null   object\n",
      " 12  sector           16806 non-null  object\n",
      " 13  uniq_id          22000 non-null  object\n",
      "dtypes: object(14)\n",
      "memory usage: 2.3+ MB\n"
     ]
    }
   ],
   "source": [
    "df.info()"
   ]
  },
  {
   "cell_type": "markdown",
   "metadata": {},
   "source": [
    "# 2.1 Empty cells per column?\n",
    "\n",
    "We have a ton of missing data in date_added, job_type, organization, salary and sector."
   ]
  },
  {
   "cell_type": "code",
   "execution_count": 8,
   "metadata": {},
   "outputs": [
    {
     "data": {
      "text/plain": [
       "country                0\n",
       "country_code           0\n",
       "date_added         21878\n",
       "has_expired            0\n",
       "job_board              0\n",
       "job_description        0\n",
       "job_title              0\n",
       "job_type            1628\n",
       "location               0\n",
       "organization        6867\n",
       "page_url               0\n",
       "salary             18554\n",
       "sector              5194\n",
       "uniq_id                0\n",
       "dtype: int64"
      ]
     },
     "execution_count": 8,
     "metadata": {},
     "output_type": "execute_result"
    }
   ],
   "source": [
    "df.isnull().sum()"
   ]
  },
  {
   "cell_type": "markdown",
   "metadata": {},
   "source": [
    "The only value in the 'Country' column is the US. I guess it makes sense when using a 'US Monster Jobs' dataset."
   ]
  },
  {
   "cell_type": "code",
   "execution_count": 9,
   "metadata": {},
   "outputs": [
    {
     "name": "stdout",
     "output_type": "stream",
     "text": [
      "United States of America    22000\n",
      "Name: country, dtype: int64\n",
      "-----------------------------------\n",
      "US    22000\n",
      "Name: country_code, dtype: int64\n"
     ]
    }
   ],
   "source": [
    "print(df['country'].value_counts())\n",
    "\n",
    "print('-----------------------------------')\n",
    "\n",
    "print(df['country_code'].value_counts())"
   ]
  },
  {
   "cell_type": "markdown",
   "metadata": {},
   "source": [
    "# 2.2 Convert date_added to date dtype"
   ]
  },
  {
   "cell_type": "code",
   "execution_count": 10,
   "metadata": {},
   "outputs": [
    {
     "data": {
      "text/html": [
       "<div>\n",
       "<style scoped>\n",
       "    .dataframe tbody tr th:only-of-type {\n",
       "        vertical-align: middle;\n",
       "    }\n",
       "\n",
       "    .dataframe tbody tr th {\n",
       "        vertical-align: top;\n",
       "    }\n",
       "\n",
       "    .dataframe thead th {\n",
       "        text-align: right;\n",
       "    }\n",
       "</style>\n",
       "<table border=\"1\" class=\"dataframe\">\n",
       "  <thead>\n",
       "    <tr style=\"text-align: right;\">\n",
       "      <th></th>\n",
       "      <th>country</th>\n",
       "      <th>country_code</th>\n",
       "      <th>date_added</th>\n",
       "      <th>has_expired</th>\n",
       "      <th>job_board</th>\n",
       "      <th>job_description</th>\n",
       "      <th>job_title</th>\n",
       "      <th>job_type</th>\n",
       "      <th>location</th>\n",
       "      <th>organization</th>\n",
       "      <th>page_url</th>\n",
       "      <th>salary</th>\n",
       "      <th>sector</th>\n",
       "      <th>uniq_id</th>\n",
       "    </tr>\n",
       "  </thead>\n",
       "  <tbody>\n",
       "    <tr>\n",
       "      <th>133</th>\n",
       "      <td>United States of America</td>\n",
       "      <td>US</td>\n",
       "      <td>5/10/2016</td>\n",
       "      <td>No</td>\n",
       "      <td>jobs.monster.com</td>\n",
       "      <td>#TrackingJobBody table, #TrackingJobBody a {&lt;b...</td>\n",
       "      <td>Multibed Technician Job in Deer Park</td>\n",
       "      <td>Full Time Employee</td>\n",
       "      <td>Deer Park, TX</td>\n",
       "      <td>Other/Not Classified</td>\n",
       "      <td>http://jobview.monster.com/Multibed-Technician...</td>\n",
       "      <td>NaN</td>\n",
       "      <td>Other</td>\n",
       "      <td>6f6e952b8b0a2bb55e9feada54db2347</td>\n",
       "    </tr>\n",
       "    <tr>\n",
       "      <th>140</th>\n",
       "      <td>United States of America</td>\n",
       "      <td>US</td>\n",
       "      <td>5/13/2016</td>\n",
       "      <td>No</td>\n",
       "      <td>jobs.monster.com</td>\n",
       "      <td>Equal Opportunity Employer: Minority/Female/Di...</td>\n",
       "      <td>Principal Cyber Security Engineer Job in Houston</td>\n",
       "      <td>Full Time Employee</td>\n",
       "      <td>Houston, TX</td>\n",
       "      <td>Computer SoftwareComputer/IT Services</td>\n",
       "      <td>http://jobview.monster.com/Principal-Cyber-Sec...</td>\n",
       "      <td>NaN</td>\n",
       "      <td>IT/Software Development</td>\n",
       "      <td>1127457851cf28d79a39fd4b35867982</td>\n",
       "    </tr>\n",
       "    <tr>\n",
       "      <th>251</th>\n",
       "      <td>United States of America</td>\n",
       "      <td>US</td>\n",
       "      <td>5/9/2016</td>\n",
       "      <td>No</td>\n",
       "      <td>jobs.monster.com</td>\n",
       "      <td>#TrackingJobBody table, #TrackingJobBody a {&lt;b...</td>\n",
       "      <td>Field Supervisor IS Job in Deer Park</td>\n",
       "      <td>Full Time Employee</td>\n",
       "      <td>Deer Park, TX</td>\n",
       "      <td>Other/Not Classified</td>\n",
       "      <td>http://jobview.monster.com/Field-Supervisor-IS...</td>\n",
       "      <td>NaN</td>\n",
       "      <td>Other</td>\n",
       "      <td>94b49d291a16d01b27378ca97e653910</td>\n",
       "    </tr>\n",
       "    <tr>\n",
       "      <th>279</th>\n",
       "      <td>United States of America</td>\n",
       "      <td>US</td>\n",
       "      <td>6/10/2016</td>\n",
       "      <td>No</td>\n",
       "      <td>jobs.monster.com</td>\n",
       "      <td>At American Family Insurance, we're firmly com...</td>\n",
       "      <td>Insurance Sales - Customer Service Job in Eden...</td>\n",
       "      <td>Full Time Employee</td>\n",
       "      <td>Eden Prairie, MN 55344</td>\n",
       "      <td>Insurance</td>\n",
       "      <td>http://jobview.monster.com/insurance-sales-cus...</td>\n",
       "      <td>15.00 - 21.00 $ /hour</td>\n",
       "      <td>Accounting/Finance/Insurance</td>\n",
       "      <td>64a597e5dd17740aadf4b0e8047b51a5</td>\n",
       "    </tr>\n",
       "    <tr>\n",
       "      <th>366</th>\n",
       "      <td>United States of America</td>\n",
       "      <td>US</td>\n",
       "      <td>1/2/2017</td>\n",
       "      <td>No</td>\n",
       "      <td>jobs.monster.com</td>\n",
       "      <td>Description The Opportunity The Vehicle Mainte...</td>\n",
       "      <td>Vehicle Maintenance Mechanic - Las Vegas</td>\n",
       "      <td>Full Time Employee</td>\n",
       "      <td>Las Vegas, NV</td>\n",
       "      <td>Energy and Utilities</td>\n",
       "      <td>http://jobview.monster.com/vehicle-maintenance...</td>\n",
       "      <td>NaN</td>\n",
       "      <td>Installation/Maintenance/Repair</td>\n",
       "      <td>886903d4dda03046c2a826c44bfff3dc</td>\n",
       "    </tr>\n",
       "    <tr>\n",
       "      <th>...</th>\n",
       "      <td>...</td>\n",
       "      <td>...</td>\n",
       "      <td>...</td>\n",
       "      <td>...</td>\n",
       "      <td>...</td>\n",
       "      <td>...</td>\n",
       "      <td>...</td>\n",
       "      <td>...</td>\n",
       "      <td>...</td>\n",
       "      <td>...</td>\n",
       "      <td>...</td>\n",
       "      <td>...</td>\n",
       "      <td>...</td>\n",
       "      <td>...</td>\n",
       "    </tr>\n",
       "    <tr>\n",
       "      <th>20760</th>\n",
       "      <td>United States of America</td>\n",
       "      <td>US</td>\n",
       "      <td>9/27/2016</td>\n",
       "      <td>No</td>\n",
       "      <td>jobs.monster.com</td>\n",
       "      <td>#TrackingJobBody table, #TrackingJobBody a {&lt;b...</td>\n",
       "      <td>Central Maintenance Planner Job in Norwell</td>\n",
       "      <td>Full Time Employee</td>\n",
       "      <td>Norwell, MA</td>\n",
       "      <td>Other/Not Classified</td>\n",
       "      <td>http://jobview.monster.com/central-maintenance...</td>\n",
       "      <td>NaN</td>\n",
       "      <td>Administrative/Clerical</td>\n",
       "      <td>7b115d764f741821bae4ac95bfcf3f04</td>\n",
       "    </tr>\n",
       "    <tr>\n",
       "      <th>21342</th>\n",
       "      <td>United States of America</td>\n",
       "      <td>US</td>\n",
       "      <td>3/30/2016</td>\n",
       "      <td>No</td>\n",
       "      <td>jobs.monster.com</td>\n",
       "      <td>#TrackingJobBody table, #TrackingJobBody a {&lt;b...</td>\n",
       "      <td>Branch Manager Job in Cincinnati</td>\n",
       "      <td>Full Time Employee</td>\n",
       "      <td>Cincinnati, OH</td>\n",
       "      <td>Other/Not Classified</td>\n",
       "      <td>http://jobview.monster.com/Branch-Manager-Job-...</td>\n",
       "      <td>NaN</td>\n",
       "      <td>Other</td>\n",
       "      <td>1db7d013265871214d3f4e7ed80d8a23</td>\n",
       "    </tr>\n",
       "    <tr>\n",
       "      <th>21391</th>\n",
       "      <td>United States of America</td>\n",
       "      <td>US</td>\n",
       "      <td>3/24/2016</td>\n",
       "      <td>No</td>\n",
       "      <td>jobs.monster.com</td>\n",
       "      <td>#TrackingJobBody table, #TrackingJobBody a {&lt;b...</td>\n",
       "      <td>Field Service Driver Job in Cincinnati</td>\n",
       "      <td>Full Time Employee</td>\n",
       "      <td>Cincinnati, OH</td>\n",
       "      <td>Other/Not Classified</td>\n",
       "      <td>http://jobview.monster.com/Field-Service-Drive...</td>\n",
       "      <td>NaN</td>\n",
       "      <td>Logistics/Transportation</td>\n",
       "      <td>4f304e6285b240f8442a028bc3716273</td>\n",
       "    </tr>\n",
       "    <tr>\n",
       "      <th>21631</th>\n",
       "      <td>United States of America</td>\n",
       "      <td>US</td>\n",
       "      <td>4/4/2016</td>\n",
       "      <td>No</td>\n",
       "      <td>jobs.monster.com</td>\n",
       "      <td>#TrackingJobBody table, #TrackingJobBody a {&lt;b...</td>\n",
       "      <td>Field Project Manager Job in Cincinnati</td>\n",
       "      <td>Full Time Employee</td>\n",
       "      <td>Cincinnati, OH</td>\n",
       "      <td>Other/Not Classified</td>\n",
       "      <td>http://jobview.monster.com/Field-Project-Manag...</td>\n",
       "      <td>NaN</td>\n",
       "      <td>Other</td>\n",
       "      <td>6f86e1f35ad082be591bcec15c75f947</td>\n",
       "    </tr>\n",
       "    <tr>\n",
       "      <th>21696</th>\n",
       "      <td>United States of America</td>\n",
       "      <td>US</td>\n",
       "      <td>3/24/2016</td>\n",
       "      <td>No</td>\n",
       "      <td>jobs.monster.com</td>\n",
       "      <td>#TrackingJobBody table, #TrackingJobBody a {&lt;b...</td>\n",
       "      <td>Environmental Technician CBPP Job in Cincinnati</td>\n",
       "      <td>Full Time Employee</td>\n",
       "      <td>Cincinnati, OH</td>\n",
       "      <td>Other/Not Classified</td>\n",
       "      <td>http://jobview.monster.com/Environmental-Techn...</td>\n",
       "      <td>NaN</td>\n",
       "      <td>Biotech/R&amp;D/Science</td>\n",
       "      <td>a0afd50db433d785e97665e4e9345815</td>\n",
       "    </tr>\n",
       "  </tbody>\n",
       "</table>\n",
       "<p>122 rows × 14 columns</p>\n",
       "</div>"
      ],
      "text/plain": [
       "                        country country_code date_added has_expired  \\\n",
       "133    United States of America           US  5/10/2016          No   \n",
       "140    United States of America           US  5/13/2016          No   \n",
       "251    United States of America           US   5/9/2016          No   \n",
       "279    United States of America           US  6/10/2016          No   \n",
       "366    United States of America           US   1/2/2017          No   \n",
       "...                         ...          ...        ...         ...   \n",
       "20760  United States of America           US  9/27/2016          No   \n",
       "21342  United States of America           US  3/30/2016          No   \n",
       "21391  United States of America           US  3/24/2016          No   \n",
       "21631  United States of America           US   4/4/2016          No   \n",
       "21696  United States of America           US  3/24/2016          No   \n",
       "\n",
       "              job_board                                    job_description  \\\n",
       "133    jobs.monster.com  #TrackingJobBody table, #TrackingJobBody a {<b...   \n",
       "140    jobs.monster.com  Equal Opportunity Employer: Minority/Female/Di...   \n",
       "251    jobs.monster.com  #TrackingJobBody table, #TrackingJobBody a {<b...   \n",
       "279    jobs.monster.com  At American Family Insurance, we're firmly com...   \n",
       "366    jobs.monster.com  Description The Opportunity The Vehicle Mainte...   \n",
       "...                 ...                                                ...   \n",
       "20760  jobs.monster.com  #TrackingJobBody table, #TrackingJobBody a {<b...   \n",
       "21342  jobs.monster.com  #TrackingJobBody table, #TrackingJobBody a {<b...   \n",
       "21391  jobs.monster.com  #TrackingJobBody table, #TrackingJobBody a {<b...   \n",
       "21631  jobs.monster.com  #TrackingJobBody table, #TrackingJobBody a {<b...   \n",
       "21696  jobs.monster.com  #TrackingJobBody table, #TrackingJobBody a {<b...   \n",
       "\n",
       "                                               job_title            job_type  \\\n",
       "133                 Multibed Technician Job in Deer Park  Full Time Employee   \n",
       "140     Principal Cyber Security Engineer Job in Houston  Full Time Employee   \n",
       "251                 Field Supervisor IS Job in Deer Park  Full Time Employee   \n",
       "279    Insurance Sales - Customer Service Job in Eden...  Full Time Employee   \n",
       "366             Vehicle Maintenance Mechanic - Las Vegas  Full Time Employee   \n",
       "...                                                  ...                 ...   \n",
       "20760         Central Maintenance Planner Job in Norwell  Full Time Employee   \n",
       "21342                   Branch Manager Job in Cincinnati  Full Time Employee   \n",
       "21391             Field Service Driver Job in Cincinnati  Full Time Employee   \n",
       "21631            Field Project Manager Job in Cincinnati  Full Time Employee   \n",
       "21696    Environmental Technician CBPP Job in Cincinnati  Full Time Employee   \n",
       "\n",
       "                     location                           organization  \\\n",
       "133             Deer Park, TX                   Other/Not Classified   \n",
       "140               Houston, TX  Computer SoftwareComputer/IT Services   \n",
       "251             Deer Park, TX                   Other/Not Classified   \n",
       "279    Eden Prairie, MN 55344                              Insurance   \n",
       "366             Las Vegas, NV                   Energy and Utilities   \n",
       "...                       ...                                    ...   \n",
       "20760             Norwell, MA                   Other/Not Classified   \n",
       "21342          Cincinnati, OH                   Other/Not Classified   \n",
       "21391          Cincinnati, OH                   Other/Not Classified   \n",
       "21631          Cincinnati, OH                   Other/Not Classified   \n",
       "21696          Cincinnati, OH                   Other/Not Classified   \n",
       "\n",
       "                                                page_url  \\\n",
       "133    http://jobview.monster.com/Multibed-Technician...   \n",
       "140    http://jobview.monster.com/Principal-Cyber-Sec...   \n",
       "251    http://jobview.monster.com/Field-Supervisor-IS...   \n",
       "279    http://jobview.monster.com/insurance-sales-cus...   \n",
       "366    http://jobview.monster.com/vehicle-maintenance...   \n",
       "...                                                  ...   \n",
       "20760  http://jobview.monster.com/central-maintenance...   \n",
       "21342  http://jobview.monster.com/Branch-Manager-Job-...   \n",
       "21391  http://jobview.monster.com/Field-Service-Drive...   \n",
       "21631  http://jobview.monster.com/Field-Project-Manag...   \n",
       "21696  http://jobview.monster.com/Environmental-Techn...   \n",
       "\n",
       "                      salary                           sector  \\\n",
       "133                      NaN                            Other   \n",
       "140                      NaN          IT/Software Development   \n",
       "251                      NaN                            Other   \n",
       "279    15.00 - 21.00 $ /hour     Accounting/Finance/Insurance   \n",
       "366                      NaN  Installation/Maintenance/Repair   \n",
       "...                      ...                              ...   \n",
       "20760                    NaN          Administrative/Clerical   \n",
       "21342                    NaN                            Other   \n",
       "21391                    NaN         Logistics/Transportation   \n",
       "21631                    NaN                            Other   \n",
       "21696                    NaN              Biotech/R&D/Science   \n",
       "\n",
       "                                uniq_id  \n",
       "133    6f6e952b8b0a2bb55e9feada54db2347  \n",
       "140    1127457851cf28d79a39fd4b35867982  \n",
       "251    94b49d291a16d01b27378ca97e653910  \n",
       "279    64a597e5dd17740aadf4b0e8047b51a5  \n",
       "366    886903d4dda03046c2a826c44bfff3dc  \n",
       "...                                 ...  \n",
       "20760  7b115d764f741821bae4ac95bfcf3f04  \n",
       "21342  1db7d013265871214d3f4e7ed80d8a23  \n",
       "21391  4f304e6285b240f8442a028bc3716273  \n",
       "21631  6f86e1f35ad082be591bcec15c75f947  \n",
       "21696  a0afd50db433d785e97665e4e9345815  \n",
       "\n",
       "[122 rows x 14 columns]"
      ]
     },
     "execution_count": 10,
     "metadata": {},
     "output_type": "execute_result"
    }
   ],
   "source": [
    "df.loc[df['date_added'].notnull()]"
   ]
  },
  {
   "cell_type": "code",
   "execution_count": 11,
   "metadata": {},
   "outputs": [
    {
     "name": "stdout",
     "output_type": "stream",
     "text": [
      "['country: object', 'country_code: object', 'date_added: object', 'has_expired: object', 'job_board: object', 'job_description: object', 'job_title: object', 'job_type: object', 'location: object', 'organization: object', 'page_url: object', 'salary: object', 'sector: object', 'uniq_id: object']\n"
     ]
    }
   ],
   "source": [
    "lista = [(i + ''': ''' + str(df.dtypes[i])) for i in dict(df.dtypes)]\n",
    "\n",
    "# for i in dict(df.dtypes)\n",
    "#     lista.append(i + ': ' + str(df.dtypes[i]))\n",
    "\n",
    "print(lista)"
   ]
  },
  {
   "cell_type": "markdown",
   "metadata": {},
   "source": [
    "# Fix salary column"
   ]
  },
  {
   "cell_type": "markdown",
   "metadata": {},
   "source": [
    "# Visualize full df rows\n",
    "\n",
    "Code in next cell allows us to view rows in text editor. I wanted to have a better idea of the data in the column.\n",
    "\n",
    "The \"Salary\" column is a mess. We got:\n",
    "-> 80,000.00 - 95,000.00 $ /year\n",
    "-> 45,000.00 - 100,000.00 $ /yearBonus, Benefits,\n",
    "-> 40,000.00 - 50,000.00 $ /yearsalary\n",
    "-> 56,000.00 - 64,000.00 $ /yearHighly Competitiv\n",
    "-> 13.00 - 16.00 $ /year\n",
    "-> 0.00 - 90,000.00 $ /year\n",
    "-> 45,000.00+ /year\n",
    "-> 0.00 - 1.00 $ /year"
   ]
  },
  {
   "cell_type": "code",
   "execution_count": 12,
   "metadata": {},
   "outputs": [
    {
     "name": "stdout",
     "output_type": "stream",
     "text": [
      "                           salary\n",
      "0                             NaN\n",
      "1                             NaN\n",
      "2                             NaN\n",
      "3                             NaN\n",
      "4                             NaN\n",
      "5                             NaN\n",
      "6                             NaN\n",
      "7                             NaN\n",
      "8                             NaN\n",
      "9                             NaN\n",
      "10                            NaN\n",
      "11                            NaN\n",
      "12                            NaN\n",
      "13           9.00 - 13.00 $ /hour\n",
      "14  80,000.00 - 95,000.00 $ /year\n"
     ]
    }
   ],
   "source": [
    "with pd.option_context('display.max_rows', None,\n",
    "                       'display.max_columns', None,\n",
    "                       'display.precision', 3,\n",
    "                       ):\n",
    "    print(df[['salary']].head(15))"
   ]
  },
  {
   "cell_type": "code",
   "execution_count": 13,
   "metadata": {},
   "outputs": [
    {
     "data": {
      "text/html": [
       "<div>\n",
       "<style scoped>\n",
       "    .dataframe tbody tr th:only-of-type {\n",
       "        vertical-align: middle;\n",
       "    }\n",
       "\n",
       "    .dataframe tbody tr th {\n",
       "        vertical-align: top;\n",
       "    }\n",
       "\n",
       "    .dataframe thead th {\n",
       "        text-align: right;\n",
       "    }\n",
       "</style>\n",
       "<table border=\"1\" class=\"dataframe\">\n",
       "  <thead>\n",
       "    <tr style=\"text-align: right;\">\n",
       "      <th></th>\n",
       "      <th>salary</th>\n",
       "    </tr>\n",
       "  </thead>\n",
       "  <tbody>\n",
       "    <tr>\n",
       "      <th>0</th>\n",
       "      <td>NaN</td>\n",
       "    </tr>\n",
       "    <tr>\n",
       "      <th>1</th>\n",
       "      <td>NaN</td>\n",
       "    </tr>\n",
       "    <tr>\n",
       "      <th>2</th>\n",
       "      <td>NaN</td>\n",
       "    </tr>\n",
       "    <tr>\n",
       "      <th>3</th>\n",
       "      <td>NaN</td>\n",
       "    </tr>\n",
       "    <tr>\n",
       "      <th>4</th>\n",
       "      <td>NaN</td>\n",
       "    </tr>\n",
       "    <tr>\n",
       "      <th>...</th>\n",
       "      <td>...</td>\n",
       "    </tr>\n",
       "    <tr>\n",
       "      <th>21995</th>\n",
       "      <td>120,000.00 - 160,000.00 $ /yearbonus</td>\n",
       "    </tr>\n",
       "    <tr>\n",
       "      <th>21996</th>\n",
       "      <td>45,000.00 - 60,000.00 $ /year</td>\n",
       "    </tr>\n",
       "    <tr>\n",
       "      <th>21997</th>\n",
       "      <td>NaN</td>\n",
       "    </tr>\n",
       "    <tr>\n",
       "      <th>21998</th>\n",
       "      <td>25.00 - 28.00 $ /hour</td>\n",
       "    </tr>\n",
       "    <tr>\n",
       "      <th>21999</th>\n",
       "      <td>40,000.00 - 46,000.00 $ /year+ annual bonus (u...</td>\n",
       "    </tr>\n",
       "  </tbody>\n",
       "</table>\n",
       "<p>22000 rows × 1 columns</p>\n",
       "</div>"
      ],
      "text/plain": [
       "                                                  salary\n",
       "0                                                    NaN\n",
       "1                                                    NaN\n",
       "2                                                    NaN\n",
       "3                                                    NaN\n",
       "4                                                    NaN\n",
       "...                                                  ...\n",
       "21995               120,000.00 - 160,000.00 $ /yearbonus\n",
       "21996                      45,000.00 - 60,000.00 $ /year\n",
       "21997                                                NaN\n",
       "21998                              25.00 - 28.00 $ /hour\n",
       "21999  40,000.00 - 46,000.00 $ /year+ annual bonus (u...\n",
       "\n",
       "[22000 rows x 1 columns]"
      ]
     },
     "execution_count": 13,
     "metadata": {},
     "output_type": "execute_result"
    }
   ],
   "source": [
    "df[['salary']]"
   ]
  },
  {
   "cell_type": "code",
   "execution_count": 99,
   "metadata": {},
   "outputs": [
    {
     "name": "stdout",
     "output_type": "stream",
     "text": [
      "id\n",
      "14                         80,000.00 - 95,000.00 $ /year\n",
      "19                         60,000.00 - 72,000.00 $ /year\n",
      "29                        70,000.00 - 100,000.00 $ /year\n",
      "32                        75,000.00 - 100,000.00 $ /year\n",
      "36                         68,000.00 - 72,000.00 $ /year\n",
      "41                         58,000.00 - 65,000.00 $ /year\n",
      "61     45,000.00 - 100,000.00 $ /yearBonus, Benefits,...\n",
      "64                   40,000.00 - 50,000.00 $ /yearsalary\n",
      "82                         80,000.00 - 90,000.00 $ /year\n",
      "83                         35,000.00 - 45,000.00 $ /year\n",
      "88                        80,000.00 - 100,000.00 $ /year\n",
      "100                        31,000.00 - 33,000.00 $ /year\n",
      "117                      100,000.00 - 120,000.00 $ /year\n",
      "127                       75,000.00 - 100,000.00 $ /year\n",
      "132                                    $50,000.00+ /year\n",
      "Name: salary, dtype: object\n"
     ]
    }
   ],
   "source": [
    "filt = (pd.isna(df['salary']) == False) & (df['salary'].str.contains('year') == True)\n",
    "\n",
    "with pd.option_context('display.max_rows', None,\n",
    "                       'display.max_columns', None,\n",
    "                       'display.precision', 3,\n",
    "                       ):\n",
    "    print(df.loc[filt]['salary'].head(15))"
   ]
  },
  {
   "cell_type": "markdown",
   "metadata": {},
   "source": [
    "# Add extra columns for analysis"
   ]
  },
  {
   "cell_type": "code",
   "execution_count": 37,
   "metadata": {},
   "outputs": [
    {
     "data": {
      "text/plain": [
       "11"
      ]
     },
     "execution_count": 37,
     "metadata": {},
     "output_type": "execute_result"
    }
   ],
   "source": [
    "df.columns.get_loc('salary')"
   ]
  },
  {
   "cell_type": "code",
   "execution_count": 38,
   "metadata": {},
   "outputs": [
    {
     "data": {
      "text/plain": [
       "Index(['country', 'country_code', 'date_added', 'has_expired', 'job_board',\n",
       "       'job_description', 'job_title', 'job_type', 'location', 'organization',\n",
       "       'page_url', 'salary', 'from_salary', 'sector', 'uniq_id'],\n",
       "      dtype='object')"
      ]
     },
     "execution_count": 38,
     "metadata": {},
     "output_type": "execute_result"
    }
   ],
   "source": [
    "df.insert(12, 'from_salary', np.nan)\n",
    "\n",
    "df.columns"
   ]
  },
  {
   "cell_type": "code",
   "execution_count": 40,
   "metadata": {},
   "outputs": [
    {
     "data": {
      "text/plain": [
       "Index(['country', 'country_code', 'date_added', 'has_expired', 'job_board',\n",
       "       'job_description', 'job_title', 'job_type', 'location', 'organization',\n",
       "       'page_url', 'salary', 'from_salary', 'to_salary', 'sector', 'uniq_id'],\n",
       "      dtype='object')"
      ]
     },
     "execution_count": 40,
     "metadata": {},
     "output_type": "execute_result"
    }
   ],
   "source": [
    "df.insert(13, 'to_salary', np.nan)\n",
    "\n",
    "df.columns"
   ]
  },
  {
   "cell_type": "code",
   "execution_count": 41,
   "metadata": {},
   "outputs": [
    {
     "data": {
      "text/plain": [
       "Index(['country', 'country_code', 'date_added', 'has_expired', 'job_board',\n",
       "       'job_description', 'job_title', 'job_type', 'location', 'organization',\n",
       "       'page_url', 'salary', 'from_salary', 'to_salary', 'yearly_hourly',\n",
       "       'sector', 'uniq_id'],\n",
       "      dtype='object')"
      ]
     },
     "execution_count": 41,
     "metadata": {},
     "output_type": "execute_result"
    }
   ],
   "source": [
    "df.insert(14, 'yearly_hourly', np.nan)\n",
    "\n",
    "df.columns"
   ]
  },
  {
   "cell_type": "code",
   "execution_count": 57,
   "metadata": {},
   "outputs": [],
   "source": [
    "df.index.names = ['id']"
   ]
  },
  {
   "cell_type": "code",
   "execution_count": 61,
   "metadata": {},
   "outputs": [
    {
     "name": "stdout",
     "output_type": "stream",
     "text": [
      "                                                  salary\n",
      "id                                                      \n",
      "0                                                    NaN\n",
      "1                                                    NaN\n",
      "2                                                    NaN\n",
      "3                                                    NaN\n",
      "4                                                    NaN\n",
      "...                                                  ...\n",
      "21995               120,000.00 - 160,000.00 $ /yearbonus\n",
      "21996                      45,000.00 - 60,000.00 $ /year\n",
      "21997                                                NaN\n",
      "21998                              25.00 - 28.00 $ /hour\n",
      "21999  40,000.00 - 46,000.00 $ /year+ annual bonus (u...\n",
      "\n",
      "[22000 rows x 1 columns]\n"
     ]
    }
   ],
   "source": [
    "print(df[['salary']])"
   ]
  },
  {
   "cell_type": "markdown",
   "metadata": {},
   "source": [
    "Now that I got the columns I'm splitting the strings into each one of them.\n",
    "Try to make sense of the data."
   ]
  },
  {
   "cell_type": "code",
   "execution_count": 87,
   "metadata": {},
   "outputs": [
    {
     "data": {
      "text/plain": [
       "id\n",
       "0       NaN\n",
       "1       NaN\n",
       "2       NaN\n",
       "3       NaN\n",
       "4       NaN\n",
       "         ..\n",
       "21995   NaN\n",
       "21996   NaN\n",
       "21997   NaN\n",
       "21998   NaN\n",
       "21999   NaN\n",
       "Name: yearly_hourly, Length: 22000, dtype: float64"
      ]
     },
     "execution_count": 87,
     "metadata": {},
     "output_type": "execute_result"
    }
   ],
   "source": [
    "df['yearly_hourly']"
   ]
  },
  {
   "cell_type": "markdown",
   "metadata": {},
   "source": [
    "Set \"Yearly_Hourly\" column to \"year\" where \"Salary\" column contains \"year\""
   ]
  },
  {
   "cell_type": "code",
   "execution_count": 97,
   "metadata": {},
   "outputs": [],
   "source": [
    "# yearly_hourly = year\n",
    "# from_salary = min\n",
    "# to_salary = max\n",
    "\n",
    "filt = (pd.isna(df['salary']) == False) & (df['salary'].str.contains('year') == True)\n",
    "\n",
    "for i in df.index[filt == True]:\n",
    "    df.iloc[i, df.columns.get_loc('yearly_hourly')] = 'year'"
   ]
  },
  {
   "cell_type": "markdown",
   "metadata": {},
   "source": [
    "Review changes, now we have \"year\" in these columns"
   ]
  },
  {
   "cell_type": "code",
   "execution_count": 98,
   "metadata": {},
   "outputs": [
    {
     "name": "stdout",
     "output_type": "stream",
     "text": [
      "                                                  salary yearly_hourly\n",
      "id                                                                    \n",
      "14                         80,000.00 - 95,000.00 $ /year          year\n",
      "19                         60,000.00 - 72,000.00 $ /year          year\n",
      "29                        70,000.00 - 100,000.00 $ /year          year\n",
      "32                        75,000.00 - 100,000.00 $ /year          year\n",
      "36                         68,000.00 - 72,000.00 $ /year          year\n",
      "...                                                  ...           ...\n",
      "21982                      70,000.00 - 80,000.00 $ /year          year\n",
      "21987                                  $80,000.00+ /year          year\n",
      "21995               120,000.00 - 160,000.00 $ /yearbonus          year\n",
      "21996                      45,000.00 - 60,000.00 $ /year          year\n",
      "21999  40,000.00 - 46,000.00 $ /year+ annual bonus (u...          year\n",
      "\n",
      "[1758 rows x 2 columns]\n"
     ]
    }
   ],
   "source": [
    "filt = (pd.isna(df['salary']) == False) & (df['salary'].str.contains('year') == True)\n",
    "\n",
    "print(df.loc[filt][['salary', 'yearly_hourly']])"
   ]
  },
  {
   "cell_type": "code",
   "execution_count": 48,
   "metadata": {},
   "outputs": [
    {
     "data": {
      "text/html": [
       "<div>\n",
       "<style scoped>\n",
       "    .dataframe tbody tr th:only-of-type {\n",
       "        vertical-align: middle;\n",
       "    }\n",
       "\n",
       "    .dataframe tbody tr th {\n",
       "        vertical-align: top;\n",
       "    }\n",
       "\n",
       "    .dataframe thead th {\n",
       "        text-align: right;\n",
       "    }\n",
       "</style>\n",
       "<table border=\"1\" class=\"dataframe\">\n",
       "  <thead>\n",
       "    <tr style=\"text-align: right;\">\n",
       "      <th></th>\n",
       "      <th>country</th>\n",
       "      <th>country_code</th>\n",
       "      <th>date_added</th>\n",
       "      <th>has_expired</th>\n",
       "      <th>job_board</th>\n",
       "      <th>job_description</th>\n",
       "      <th>job_title</th>\n",
       "      <th>job_type</th>\n",
       "      <th>location</th>\n",
       "      <th>organization</th>\n",
       "      <th>page_url</th>\n",
       "      <th>salary</th>\n",
       "      <th>from_salary</th>\n",
       "      <th>to_salary</th>\n",
       "      <th>yearly_hourly</th>\n",
       "      <th>sector</th>\n",
       "      <th>uniq_id</th>\n",
       "    </tr>\n",
       "  </thead>\n",
       "  <tbody>\n",
       "    <tr>\n",
       "      <th>0</th>\n",
       "      <td>United States of America</td>\n",
       "      <td>US</td>\n",
       "      <td>NaN</td>\n",
       "      <td>No</td>\n",
       "      <td>jobs.monster.com</td>\n",
       "      <td>TeamSoft is seeing an IT Support Specialist to...</td>\n",
       "      <td>IT Support Technician Job in Madison</td>\n",
       "      <td>Full Time Employee</td>\n",
       "      <td>Madison, WI 53702</td>\n",
       "      <td>NaN</td>\n",
       "      <td>http://jobview.monster.com/it-support-technici...</td>\n",
       "      <td>NaN</td>\n",
       "      <td>NaN</td>\n",
       "      <td>NaN</td>\n",
       "      <td>NaN</td>\n",
       "      <td>IT/Software Development</td>\n",
       "      <td>11d599f229a80023d2f40e7c52cd941e</td>\n",
       "    </tr>\n",
       "    <tr>\n",
       "      <th>1</th>\n",
       "      <td>United States of America</td>\n",
       "      <td>US</td>\n",
       "      <td>NaN</td>\n",
       "      <td>No</td>\n",
       "      <td>jobs.monster.com</td>\n",
       "      <td>The Wisconsin State Journal is seeking a flexi...</td>\n",
       "      <td>Business Reporter/Editor Job in Madison</td>\n",
       "      <td>Full Time</td>\n",
       "      <td>Madison, WI 53708</td>\n",
       "      <td>Printing and Publishing</td>\n",
       "      <td>http://jobview.monster.com/business-reporter-e...</td>\n",
       "      <td>NaN</td>\n",
       "      <td>NaN</td>\n",
       "      <td>NaN</td>\n",
       "      <td>NaN</td>\n",
       "      <td>NaN</td>\n",
       "      <td>e4cbb126dabf22159aff90223243ff2a</td>\n",
       "    </tr>\n",
       "    <tr>\n",
       "      <th>2</th>\n",
       "      <td>United States of America</td>\n",
       "      <td>US</td>\n",
       "      <td>NaN</td>\n",
       "      <td>No</td>\n",
       "      <td>jobs.monster.com</td>\n",
       "      <td>Report this job About the Job DePuy Synthes Co...</td>\n",
       "      <td>Johnson &amp; Johnson Family of Companies Job Appl...</td>\n",
       "      <td>Full Time, Employee</td>\n",
       "      <td>DePuy Synthes Companies is a member of Johnson...</td>\n",
       "      <td>Personal and Household Services</td>\n",
       "      <td>http://jobview.monster.com/senior-training-lea...</td>\n",
       "      <td>NaN</td>\n",
       "      <td>NaN</td>\n",
       "      <td>NaN</td>\n",
       "      <td>NaN</td>\n",
       "      <td>NaN</td>\n",
       "      <td>839106b353877fa3d896ffb9c1fe01c0</td>\n",
       "    </tr>\n",
       "    <tr>\n",
       "      <th>3</th>\n",
       "      <td>United States of America</td>\n",
       "      <td>US</td>\n",
       "      <td>NaN</td>\n",
       "      <td>No</td>\n",
       "      <td>jobs.monster.com</td>\n",
       "      <td>Why Join Altec? If you’re considering a career...</td>\n",
       "      <td>Engineer - Quality Job in Dixon</td>\n",
       "      <td>Full Time</td>\n",
       "      <td>Dixon, CA</td>\n",
       "      <td>Altec Industries</td>\n",
       "      <td>http://jobview.monster.com/engineer-quality-jo...</td>\n",
       "      <td>NaN</td>\n",
       "      <td>NaN</td>\n",
       "      <td>NaN</td>\n",
       "      <td>NaN</td>\n",
       "      <td>Experienced (Non-Manager)</td>\n",
       "      <td>58435fcab804439efdcaa7ecca0fd783</td>\n",
       "    </tr>\n",
       "    <tr>\n",
       "      <th>4</th>\n",
       "      <td>United States of America</td>\n",
       "      <td>US</td>\n",
       "      <td>NaN</td>\n",
       "      <td>No</td>\n",
       "      <td>jobs.monster.com</td>\n",
       "      <td>Position ID#  76162 # Positions  1 State  CT C...</td>\n",
       "      <td>Shift Supervisor - Part-Time Job in Camphill</td>\n",
       "      <td>Full Time Employee</td>\n",
       "      <td>Camphill, PA</td>\n",
       "      <td>Retail</td>\n",
       "      <td>http://jobview.monster.com/shift-supervisor-pa...</td>\n",
       "      <td>NaN</td>\n",
       "      <td>NaN</td>\n",
       "      <td>NaN</td>\n",
       "      <td>NaN</td>\n",
       "      <td>Project/Program Management</td>\n",
       "      <td>64d0272dc8496abfd9523a8df63c184c</td>\n",
       "    </tr>\n",
       "    <tr>\n",
       "      <th>...</th>\n",
       "      <td>...</td>\n",
       "      <td>...</td>\n",
       "      <td>...</td>\n",
       "      <td>...</td>\n",
       "      <td>...</td>\n",
       "      <td>...</td>\n",
       "      <td>...</td>\n",
       "      <td>...</td>\n",
       "      <td>...</td>\n",
       "      <td>...</td>\n",
       "      <td>...</td>\n",
       "      <td>...</td>\n",
       "      <td>...</td>\n",
       "      <td>...</td>\n",
       "      <td>...</td>\n",
       "      <td>...</td>\n",
       "      <td>...</td>\n",
       "    </tr>\n",
       "    <tr>\n",
       "      <th>21995</th>\n",
       "      <td>United States of America</td>\n",
       "      <td>US</td>\n",
       "      <td>NaN</td>\n",
       "      <td>No</td>\n",
       "      <td>jobs.monster.com</td>\n",
       "      <td>This is a major premier Cincinnati based finan...</td>\n",
       "      <td>Assistant Vice President - Controller Job in C...</td>\n",
       "      <td>Full Time</td>\n",
       "      <td>Cincinnati, OH</td>\n",
       "      <td>NaN</td>\n",
       "      <td>http://jobview.monster.com/Assistant-Vice-Pres...</td>\n",
       "      <td>120,000.00 - 160,000.00 $ /yearbonus</td>\n",
       "      <td>NaN</td>\n",
       "      <td>NaN</td>\n",
       "      <td>NaN</td>\n",
       "      <td>NaN</td>\n",
       "      <td>a80bc8cc3a90c17eef418963803bc640</td>\n",
       "    </tr>\n",
       "    <tr>\n",
       "      <th>21996</th>\n",
       "      <td>United States of America</td>\n",
       "      <td>US</td>\n",
       "      <td>NaN</td>\n",
       "      <td>No</td>\n",
       "      <td>jobs.monster.com</td>\n",
       "      <td>Luxury homebuilder in Cincinnati seeking multi...</td>\n",
       "      <td>Accountant Job in Cincinnati</td>\n",
       "      <td>Full Time</td>\n",
       "      <td>Cincinnati, OH 45236</td>\n",
       "      <td>Construction - Residential &amp; Commercial/Office</td>\n",
       "      <td>http://jobview.monster.com/Accountant-Job-Cinc...</td>\n",
       "      <td>45,000.00 - 60,000.00 $ /year</td>\n",
       "      <td>NaN</td>\n",
       "      <td>NaN</td>\n",
       "      <td>NaN</td>\n",
       "      <td>Manager (Manager/Supervisor of Staff)</td>\n",
       "      <td>419a3714be2b30a10f628de207d041de</td>\n",
       "    </tr>\n",
       "    <tr>\n",
       "      <th>21997</th>\n",
       "      <td>United States of America</td>\n",
       "      <td>US</td>\n",
       "      <td>NaN</td>\n",
       "      <td>No</td>\n",
       "      <td>jobs.monster.com</td>\n",
       "      <td>RE: Adobe AEM-          Client -          Loca...</td>\n",
       "      <td>AEM/CQ developer Job in Chicago</td>\n",
       "      <td>Full Time</td>\n",
       "      <td>Chicago, IL 60602</td>\n",
       "      <td>NaN</td>\n",
       "      <td>http://jobview.monster.com/AEM-CQ5-developer-J...</td>\n",
       "      <td>NaN</td>\n",
       "      <td>NaN</td>\n",
       "      <td>NaN</td>\n",
       "      <td>NaN</td>\n",
       "      <td>NaN</td>\n",
       "      <td>5a590350b73b2cec46b05750a208e345</td>\n",
       "    </tr>\n",
       "    <tr>\n",
       "      <th>21998</th>\n",
       "      <td>United States of America</td>\n",
       "      <td>US</td>\n",
       "      <td>NaN</td>\n",
       "      <td>No</td>\n",
       "      <td>jobs.monster.com</td>\n",
       "      <td>Jernberg Industries was established in 1937 an...</td>\n",
       "      <td>Electrician - Experienced Forging Electrician ...</td>\n",
       "      <td>Full Time Employee</td>\n",
       "      <td>Chicago, IL 60609</td>\n",
       "      <td>Jernberg Industries, Inc.</td>\n",
       "      <td>http://jobview.monster.com/Electrician-Experie...</td>\n",
       "      <td>25.00 - 28.00 $ /hour</td>\n",
       "      <td>NaN</td>\n",
       "      <td>NaN</td>\n",
       "      <td>NaN</td>\n",
       "      <td>Installation/Maintenance/Repair</td>\n",
       "      <td>40161cf61c283af9dc2b0a62947a5f1b</td>\n",
       "    </tr>\n",
       "    <tr>\n",
       "      <th>21999</th>\n",
       "      <td>United States of America</td>\n",
       "      <td>US</td>\n",
       "      <td>NaN</td>\n",
       "      <td>No</td>\n",
       "      <td>jobs.monster.com</td>\n",
       "      <td>Contract AdministratorCan you be the point per...</td>\n",
       "      <td>Contract Administrator Job in Cincinnati</td>\n",
       "      <td>Full Time</td>\n",
       "      <td>Cincinnati, OH</td>\n",
       "      <td>NaN</td>\n",
       "      <td>http://jobview.monster.com/Contract-Administra...</td>\n",
       "      <td>40,000.00 - 46,000.00 $ /year+ annual bonus (u...</td>\n",
       "      <td>NaN</td>\n",
       "      <td>NaN</td>\n",
       "      <td>NaN</td>\n",
       "      <td>Experienced (Non-Manager)</td>\n",
       "      <td>cb49f16ad72627b109e434e0cac97f7a</td>\n",
       "    </tr>\n",
       "  </tbody>\n",
       "</table>\n",
       "<p>22000 rows × 17 columns</p>\n",
       "</div>"
      ],
      "text/plain": [
       "                        country country_code date_added has_expired  \\\n",
       "0      United States of America           US        NaN          No   \n",
       "1      United States of America           US        NaN          No   \n",
       "2      United States of America           US        NaN          No   \n",
       "3      United States of America           US        NaN          No   \n",
       "4      United States of America           US        NaN          No   \n",
       "...                         ...          ...        ...         ...   \n",
       "21995  United States of America           US        NaN          No   \n",
       "21996  United States of America           US        NaN          No   \n",
       "21997  United States of America           US        NaN          No   \n",
       "21998  United States of America           US        NaN          No   \n",
       "21999  United States of America           US        NaN          No   \n",
       "\n",
       "              job_board                                    job_description  \\\n",
       "0      jobs.monster.com  TeamSoft is seeing an IT Support Specialist to...   \n",
       "1      jobs.monster.com  The Wisconsin State Journal is seeking a flexi...   \n",
       "2      jobs.monster.com  Report this job About the Job DePuy Synthes Co...   \n",
       "3      jobs.monster.com  Why Join Altec? If you’re considering a career...   \n",
       "4      jobs.monster.com  Position ID#  76162 # Positions  1 State  CT C...   \n",
       "...                 ...                                                ...   \n",
       "21995  jobs.monster.com  This is a major premier Cincinnati based finan...   \n",
       "21996  jobs.monster.com  Luxury homebuilder in Cincinnati seeking multi...   \n",
       "21997  jobs.monster.com  RE: Adobe AEM-          Client -          Loca...   \n",
       "21998  jobs.monster.com  Jernberg Industries was established in 1937 an...   \n",
       "21999  jobs.monster.com  Contract AdministratorCan you be the point per...   \n",
       "\n",
       "                                               job_title             job_type  \\\n",
       "0                   IT Support Technician Job in Madison   Full Time Employee   \n",
       "1                Business Reporter/Editor Job in Madison            Full Time   \n",
       "2      Johnson & Johnson Family of Companies Job Appl...  Full Time, Employee   \n",
       "3                        Engineer - Quality Job in Dixon            Full Time   \n",
       "4           Shift Supervisor - Part-Time Job in Camphill   Full Time Employee   \n",
       "...                                                  ...                  ...   \n",
       "21995  Assistant Vice President - Controller Job in C...            Full Time   \n",
       "21996                       Accountant Job in Cincinnati            Full Time   \n",
       "21997                    AEM/CQ developer Job in Chicago            Full Time   \n",
       "21998  Electrician - Experienced Forging Electrician ...   Full Time Employee   \n",
       "21999           Contract Administrator Job in Cincinnati            Full Time   \n",
       "\n",
       "                                                location  \\\n",
       "0                                      Madison, WI 53702   \n",
       "1                                      Madison, WI 53708   \n",
       "2      DePuy Synthes Companies is a member of Johnson...   \n",
       "3                                              Dixon, CA   \n",
       "4                                           Camphill, PA   \n",
       "...                                                  ...   \n",
       "21995                                     Cincinnati, OH   \n",
       "21996                               Cincinnati, OH 45236   \n",
       "21997                                  Chicago, IL 60602   \n",
       "21998                                  Chicago, IL 60609   \n",
       "21999                                     Cincinnati, OH   \n",
       "\n",
       "                                         organization  \\\n",
       "0                                                 NaN   \n",
       "1                             Printing and Publishing   \n",
       "2                     Personal and Household Services   \n",
       "3                                    Altec Industries   \n",
       "4                                              Retail   \n",
       "...                                               ...   \n",
       "21995                                             NaN   \n",
       "21996  Construction - Residential & Commercial/Office   \n",
       "21997                                             NaN   \n",
       "21998                       Jernberg Industries, Inc.   \n",
       "21999                                             NaN   \n",
       "\n",
       "                                                page_url  \\\n",
       "0      http://jobview.monster.com/it-support-technici...   \n",
       "1      http://jobview.monster.com/business-reporter-e...   \n",
       "2      http://jobview.monster.com/senior-training-lea...   \n",
       "3      http://jobview.monster.com/engineer-quality-jo...   \n",
       "4      http://jobview.monster.com/shift-supervisor-pa...   \n",
       "...                                                  ...   \n",
       "21995  http://jobview.monster.com/Assistant-Vice-Pres...   \n",
       "21996  http://jobview.monster.com/Accountant-Job-Cinc...   \n",
       "21997  http://jobview.monster.com/AEM-CQ5-developer-J...   \n",
       "21998  http://jobview.monster.com/Electrician-Experie...   \n",
       "21999  http://jobview.monster.com/Contract-Administra...   \n",
       "\n",
       "                                                  salary  from_salary  \\\n",
       "0                                                    NaN          NaN   \n",
       "1                                                    NaN          NaN   \n",
       "2                                                    NaN          NaN   \n",
       "3                                                    NaN          NaN   \n",
       "4                                                    NaN          NaN   \n",
       "...                                                  ...          ...   \n",
       "21995               120,000.00 - 160,000.00 $ /yearbonus          NaN   \n",
       "21996                      45,000.00 - 60,000.00 $ /year          NaN   \n",
       "21997                                                NaN          NaN   \n",
       "21998                              25.00 - 28.00 $ /hour          NaN   \n",
       "21999  40,000.00 - 46,000.00 $ /year+ annual bonus (u...          NaN   \n",
       "\n",
       "       to_salary  yearly_hourly                                 sector  \\\n",
       "0            NaN            NaN                IT/Software Development   \n",
       "1            NaN            NaN                                    NaN   \n",
       "2            NaN            NaN                                    NaN   \n",
       "3            NaN            NaN              Experienced (Non-Manager)   \n",
       "4            NaN            NaN             Project/Program Management   \n",
       "...          ...            ...                                    ...   \n",
       "21995        NaN            NaN                                    NaN   \n",
       "21996        NaN            NaN  Manager (Manager/Supervisor of Staff)   \n",
       "21997        NaN            NaN                                    NaN   \n",
       "21998        NaN            NaN        Installation/Maintenance/Repair   \n",
       "21999        NaN            NaN              Experienced (Non-Manager)   \n",
       "\n",
       "                                uniq_id  \n",
       "0      11d599f229a80023d2f40e7c52cd941e  \n",
       "1      e4cbb126dabf22159aff90223243ff2a  \n",
       "2      839106b353877fa3d896ffb9c1fe01c0  \n",
       "3      58435fcab804439efdcaa7ecca0fd783  \n",
       "4      64d0272dc8496abfd9523a8df63c184c  \n",
       "...                                 ...  \n",
       "21995  a80bc8cc3a90c17eef418963803bc640  \n",
       "21996  419a3714be2b30a10f628de207d041de  \n",
       "21997  5a590350b73b2cec46b05750a208e345  \n",
       "21998  40161cf61c283af9dc2b0a62947a5f1b  \n",
       "21999  cb49f16ad72627b109e434e0cac97f7a  \n",
       "\n",
       "[22000 rows x 17 columns]"
      ]
     },
     "execution_count": 48,
     "metadata": {},
     "output_type": "execute_result"
    }
   ],
   "source": [
    "df"
   ]
  },
  {
   "cell_type": "markdown",
   "metadata": {},
   "source": [
    "Dictionary + astype to convert column dtype"
   ]
  },
  {
   "cell_type": "code",
   "execution_count": 16,
   "metadata": {},
   "outputs": [],
   "source": [
    "# convert_dict = {'salary': float}\n",
    "\n",
    "# df = df.astype(convert_dict)"
   ]
  },
  {
   "cell_type": "code",
   "execution_count": 17,
   "metadata": {},
   "outputs": [
    {
     "data": {
      "text/plain": [
       "country            object\n",
       "country_code       object\n",
       "date_added         object\n",
       "has_expired        object\n",
       "job_board          object\n",
       "job_description    object\n",
       "job_title          object\n",
       "job_type           object\n",
       "location           object\n",
       "organization       object\n",
       "page_url           object\n",
       "salary             object\n",
       "sector             object\n",
       "uniq_id            object\n",
       "dtype: object"
      ]
     },
     "execution_count": 17,
     "metadata": {},
     "output_type": "execute_result"
    }
   ],
   "source": [
    "df.dtypes"
   ]
  },
  {
   "cell_type": "markdown",
   "metadata": {},
   "source": [
    "'Apply' method to convert column dtype"
   ]
  },
  {
   "cell_type": "code",
   "execution_count": null,
   "metadata": {},
   "outputs": [],
   "source": []
  },
  {
   "cell_type": "markdown",
   "metadata": {},
   "source": [
    "Empty cells by column\n",
    "What can we do about these columns?\n",
    "\n",
    "-> date_added:\n",
    " <br />-> job_type: \n",
    " <br />-> organization: \n",
    " <br />-> salary:\n",
    " <br />-> sector: "
   ]
  },
  {
   "cell_type": "code",
   "execution_count": 18,
   "metadata": {},
   "outputs": [
    {
     "data": {
      "text/plain": [
       "country                0\n",
       "country_code           0\n",
       "date_added         21878\n",
       "has_expired            0\n",
       "job_board              0\n",
       "job_description        0\n",
       "job_title              0\n",
       "job_type            1628\n",
       "location               0\n",
       "organization        6867\n",
       "page_url               0\n",
       "salary             18554\n",
       "sector              5194\n",
       "uniq_id                0\n",
       "dtype: int64"
      ]
     },
     "execution_count": 18,
     "metadata": {},
     "output_type": "execute_result"
    }
   ],
   "source": [
    "df.isnull().sum()"
   ]
  }
 ],
 "metadata": {
  "interpreter": {
   "hash": "7d5c4801ed2f7111b96636c312e7b40cdf96baf0f798db38a95b8dd3c0de6eb6"
  },
  "kernelspec": {
   "display_name": "Python 3.9.7 ('base')",
   "language": "python",
   "name": "python3"
  },
  "language_info": {
   "codemirror_mode": {
    "name": "ipython",
    "version": 3
   },
   "file_extension": ".py",
   "mimetype": "text/x-python",
   "name": "python",
   "nbconvert_exporter": "python",
   "pygments_lexer": "ipython3",
   "version": "3.9.7"
  },
  "orig_nbformat": 4
 },
 "nbformat": 4,
 "nbformat_minor": 2
}
